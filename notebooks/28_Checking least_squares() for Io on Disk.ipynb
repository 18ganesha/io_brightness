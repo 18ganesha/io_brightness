{
 "cells": [
  {
   "cell_type": "code",
   "execution_count": 1,
   "id": "57f7ff97",
   "metadata": {},
   "outputs": [],
   "source": [
    "%matplotlib inline\n",
    "import matplotlib.pyplot as plt\n",
    "import pandas as pd\n",
    "import os\n",
    "import glob\n",
    "from astropy.utils.data import get_pkg_data_filename\n",
    "from astropy.io import fits\n",
    "from astropy.table import Table\n",
    "import numpy as np\n",
    "import warnings\n",
    "import scipy as scipy\n",
    "from scipy import optimize\n",
    "from scipy.optimize import differential_evolution\n",
    "from tqdm import tqdm\n",
    "from matplotlib.pyplot import cm\n",
    "from collections import OrderedDict\n",
    "plt.rcParams.update({'figure.max_open_warning': 0})"
   ]
  },
  {
   "cell_type": "code",
   "execution_count": 2,
   "id": "7d495942",
   "metadata": {},
   "outputs": [],
   "source": [
    "def gaussian(x, mu, sig, A):\n",
    "    return A*np.exp(-(x-mu)**2/(2*sig**2))"
   ]
  },
  {
   "cell_type": "code",
   "execution_count": 3,
   "id": "eb3db3a7",
   "metadata": {},
   "outputs": [],
   "source": [
    "errfunc1 = lambda p, x, y: (gaussian(x, *p) - y)**2"
   ]
  },
  {
   "cell_type": "code",
   "execution_count": null,
   "id": "d1130850",
   "metadata": {},
   "outputs": [],
   "source": [
    "hdulist = fits.open('../data/composite_Io_disk.fits')\n",
    "evt_data = Table(hdulist[1].data)\n",
    "image_data = hdulist[1].data\n",
    "df = pd.read_csv('../data/io_on_disk.csv') #spaces in csv file will make df object type and not float64\n",
    "#line = \"S I\"\n",
    "#target_mask = df.Species.str.endswith(line) #probably a better function but idk it right now\n",
    "#df = df[target_mask]\n",
    "df_wavelength = df['Wavelength']\n",
    "df_species = df['Species']\n",
    "wl = evt_data['WAVELENGTH'].data\n",
    "flux = evt_data['FLUX'].data\n",
    "wavelength_list = df_wavelength.values.tolist()\n",
    "hdulist4 = fits.open('../data/composite_Io_jets.fits')\n",
    "evt_data4 = Table(hdulist4[1].data)\n",
    "image_data4 = hdulist4[1].data\n",
    "df4 = pd.read_csv('../data/io_on_disk.csv') #spaces in csv file will make df object type and not float64\n",
    "#line = \"S I\"\n",
    "#target_mask = df.Species.str.endswith(line) #probably a better function but idk it right now\n",
    "#df = df[target_mask]\n",
    "df_wavelength4 = df4['Wavelength']\n",
    "df_species4 = df4['Species']\n",
    "wl4 = evt_data4['WAVELENGTH'].data\n",
    "flux4 = evt_data4['FLUX'].data"
   ]
  },
  {
   "cell_type": "code",
   "execution_count": null,
   "id": "b78878c6",
   "metadata": {},
   "outputs": [],
   "source": [
    "i=4\n",
    "line = wavelength_list[i]\n",
    "left_bound = 0.9995*line\n",
    "right_bound = 1.0005*line\n",
    "sub_region = (evt_data['WAVELENGTH'] > left_bound) & (evt_data['WAVELENGTH'] < right_bound) #only take values within this area\n",
    "wl = evt_data['WAVELENGTH'][sub_region]\n",
    "flux = evt_data['FLUX'][sub_region]\n",
    "wl4 = evt_data4['WAVELENGTH'][sub_region]\n",
    "flux4 = evt_data4['FLUX'][sub_region]\n",
    "unc = 0.1*flux #placeholder uncertainty\n",
    "wl = wl.data\n",
    "flux = flux.data\n",
    "guess1 = [line, 1, 1200]\n",
    "optim = optimize.least_squares(errfunc1, guess1, args=(wl, flux),\n",
    "                               bounds=([guess1[0]-0.01, 0, 0],[guess1[0]+0.01, guess1[1]+0.1, guess1[2]+5]))"
   ]
  },
  {
   "cell_type": "code",
   "execution_count": null,
   "id": "b18c7d28",
   "metadata": {
    "scrolled": true
   },
   "outputs": [],
   "source": [
    "optim['x'], guess1"
   ]
  },
  {
   "cell_type": "code",
   "execution_count": null,
   "id": "d826170e",
   "metadata": {},
   "outputs": [],
   "source": [
    "plt.figure(figsize=(16, 5))\n",
    "plt.plot(wl, flux, 'g.', label='on disk')\n",
    "plt.plot(wl4, flux4, 'r.', label='off disk')\n",
    "plt.plot(wl, gaussian(wl, *optim['x']),\n",
    "    lw=2, c='y', label='fit of 1 Gaussian')\n",
    "plt.axvline(x=line, color = 'purple', linestyle = 'dotted')\n",
    "plt.legend(loc='best')\n",
    "plt.title('Line {}'.format(guess1[0]))"
   ]
  },
  {
   "cell_type": "markdown",
   "id": "27ab1739",
   "metadata": {},
   "source": [
    "Let's calculate the brightness."
   ]
  },
  {
   "cell_type": "code",
   "execution_count": null,
   "id": "a275c97e",
   "metadata": {},
   "outputs": [],
   "source": [
    "args = optim['x']\n",
    "sigma = args[1]\n",
    "amp = args[2]\n",
    "brightness = ((2*np.pi)**.5)*(amp*sigma)\n",
    "brightness"
   ]
  },
  {
   "cell_type": "code",
   "execution_count": 4,
   "id": "64d0d9df",
   "metadata": {},
   "outputs": [],
   "source": [
    "hdulist = fits.open('../data/composite_Io_eclipsed (1).fits')\n",
    "evt_data = Table(hdulist[1].data)\n",
    "image_data = hdulist[1].data\n",
    "df = pd.read_csv('../data/io_on_disk.csv') #spaces in csv file will make df object type and not float64\n",
    "#line = \"S I\"\n",
    "#target_mask = df.Species.str.endswith(line) #probably a better function but idk it right now\n",
    "#df = df[target_mask]\n",
    "df_wavelength = df['Wavelength']\n",
    "df_species = df['Species']\n",
    "wl = evt_data['WAVELENGTH'].data\n",
    "flux = evt_data['FLUX'].data\n",
    "wavelength_list = df_wavelength.values.tolist()"
   ]
  },
  {
   "cell_type": "code",
   "execution_count": 272,
   "id": "780b5f95",
   "metadata": {},
   "outputs": [],
   "source": [
    "x=58\n",
    "i=x-2\n",
    "line = wavelength_list[i]\n",
    "left_bound = 0.9996*line\n",
    "right_bound = 1.0004*line\n",
    "sub_region = (evt_data['WAVELENGTH'] > left_bound) & (evt_data['WAVELENGTH'] < right_bound) #only take values within this area\n",
    "wl = evt_data['WAVELENGTH'][sub_region]\n",
    "flux = evt_data['FLUX'][sub_region]\n",
    "unc = 0.1*flux #placeholder uncertainty\n",
    "wl = wl.data\n",
    "flux = flux.data\n",
    "guess1 = [line, .25, 150]\n",
    "optim = optimize.least_squares(errfunc1, guess1, args=(wl, flux),\n",
    "                               bounds=([guess1[0]-0.05, 0, 0],[guess1[0]+0.05, guess1[1]+0.05, guess1[2]+1]))"
   ]
  },
  {
   "cell_type": "code",
   "execution_count": 273,
   "id": "4b60bd77",
   "metadata": {},
   "outputs": [
    {
     "data": {
      "text/plain": [
       "Text(0.5, 1.0, 'Line 1306.029')"
      ]
     },
     "execution_count": 273,
     "metadata": {},
     "output_type": "execute_result"
    },
    {
     "data": {
      "image/png": "[encoded data removed]",
      "text/plain": [
       "<Figure size 1152x360 with 1 Axes>"
      ]
     },
     "metadata": {
      "needs_background": "light"
     },
     "output_type": "display_data"
    }
   ],
   "source": [
    "plt.figure(figsize=(16, 5))\n",
    "plt.plot(wl, flux, 'g.', label='on disk')\n",
    "plt.plot(wl, gaussian(wl, *optim['x']),\n",
    "    lw=2, c='y', label='fit of 1 Gaussian')\n",
    "plt.axvline(x=line, color = 'purple', linestyle = 'dotted')\n",
    "plt.legend(loc='best')\n",
    "plt.title('Line {}'.format(guess1[0]))"
   ]
  },
  {
   "cell_type": "code",
   "execution_count": 271,
   "id": "9adf1bdc",
   "metadata": {},
   "outputs": [
    {
     "data": {
      "text/plain": [
       "(array([1.30599325e+03, 2.46219397e-01, 1.87112979e+02]),\n",
       " [1306.029, 0.25, 200])"
      ]
     },
     "execution_count": 271,
     "metadata": {},
     "output_type": "execute_result"
    }
   ],
   "source": [
    "optim['x'], guess1"
   ]
  },
  {
   "cell_type": "code",
   "execution_count": null,
   "id": "3d146495",
   "metadata": {},
   "outputs": [],
   "source": []
  },
  {
   "cell_type": "code",
   "execution_count": 256,
   "id": "096b1d0a",
   "metadata": {},
   "outputs": [
    {
     "data": {
      "text/plain": [
       "10.5278387534502"
      ]
     },
     "execution_count": 256,
     "metadata": {},
     "output_type": "execute_result"
    }
   ],
   "source": [
    "args = optim['x']\n",
    "sigma = args[1]\n",
    "amp = args[2]\n",
    "brightness = ((2*np.pi)**.5)*(amp*sigma)\n",
    "brightness"
   ]
  },
  {
   "cell_type": "code",
   "execution_count": null,
   "id": "88712f33",
   "metadata": {},
   "outputs": [],
   "source": []
  },
  {
   "cell_type": "code",
   "execution_count": null,
   "id": "ec2d9f43",
   "metadata": {},
   "outputs": [],
   "source": []
  }
 ],
 "metadata": {
  "kernelspec": {
   "display_name": "Python 3",
   "language": "python",
   "name": "python3"
  },
  "language_info": {
   "codemirror_mode": {
    "name": "ipython",
    "version": 3
   },
   "file_extension": ".py",
   "mimetype": "text/x-python",
   "name": "python",
   "nbconvert_exporter": "python",
   "pygments_lexer": "ipython3",
   "version": "3.7.10"
  }
 },
 "nbformat": 4,
 "nbformat_minor": 5
}
