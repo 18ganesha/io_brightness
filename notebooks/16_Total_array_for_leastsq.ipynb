{
 "cells": [
  {
   "cell_type": "code",
   "execution_count": 1,
   "id": "e91b8e82",
   "metadata": {},
   "outputs": [],
   "source": [
    "import pandas as pd\n",
    "import os\n",
    "import glob\n",
    "from astropy.utils.data import get_pkg_data_filename\n",
    "from astropy.io import fits\n",
    "from astropy.table import Table\n",
    "import matplotlib.pyplot as plt\n",
    "from scipy.optimize import curve_fit\n",
    "import numpy as np\n",
    "import numpy as np\n",
    "import matplotlib\n",
    "import matplotlib.pyplot as plt\n",
    "from scipy.optimize import curve_fit\n",
    "import warnings\n",
    "import pandas as pd\n",
    "import os\n",
    "import glob\n",
    "from astropy.utils.data import get_pkg_data_filename\n",
    "from astropy.io import fits\n",
    "from astropy.table import Table\n",
    "import scipy as scipy\n",
    "from scipy import optimize\n",
    "from scipy.optimize import differential_evolution"
   ]
  },
  {
   "cell_type": "code",
   "execution_count": 2,
   "id": "ec755758",
   "metadata": {},
   "outputs": [],
   "source": [
    "hdulist = fits.open('../data/composite_Io_eclipsed.fits')\n",
    "evt_data = Table(hdulist[1].data)\n",
    "image_data = hdulist[1].data\n",
    "df = pd.read_csv('../data/Io_Master_Line_List (1).csv') #spaces in csv file will make df object type and not float64\n",
    "line = \"S I\"\n",
    "target_mask = df.Species.str.endswith(line) #probably a better function but idk it right now\n",
    "df = df[target_mask]\n",
    "df_wavelength = df['Wavelength']\n",
    "df_species = df['Species']"
   ]
  },
  {
   "cell_type": "code",
   "execution_count": null,
   "id": "1ed9021e",
   "metadata": {},
   "outputs": [],
   "source": [
    "plt.figure(figsize=(16, 5))\n",
    "plt.plot(evt_data['WAVELENGTH'].T, evt_data['FLUX'].T) #make it columns instead of rows bc otherwise will be a blank plot\n",
    "plt.xlabel('$\\lambda$ ($\\AA$)');\n",
    "plt.ylabel('Raw Flux')\n",
    "plt.title(\"COS Io Spectrum with S I\")\n",
    "for xc in df_wavelength:\n",
    "    plt.axvline(x=xc, color = 'red', linestyle = 'dotted')\n",
    "plt.grid(True) "
   ]
  },
  {
   "cell_type": "code",
   "execution_count": null,
   "id": "527378fd",
   "metadata": {},
   "outputs": [],
   "source": [
    "def gaussian(x, mu, sig, A):\n",
    "    return A*np.exp(-(x-mu)**2/(2*sig**2))"
   ]
  },
  {
   "cell_type": "code",
   "execution_count": null,
   "id": "ea0ad7a2",
   "metadata": {},
   "outputs": [],
   "source": [
    "array = pd.read_csv('../data/least_squares_array.csv') #spaces in csv file will make df object type and not float64\n",
    "guess = array.to_numpy()"
   ]
  },
  {
   "cell_type": "code",
   "execution_count": null,
   "id": "b347832e",
   "metadata": {},
   "outputs": [],
   "source": [
    "wl = evt_data['WAVELENGTH'].T\n",
    "flux = evt_data['FLUX'].T\n",
    "wl = wl.data\n",
    "flux = flux.data\n",
    "wl = wl.flatten()\n",
    "flux = flux.flatten()"
   ]
  },
  {
   "cell_type": "code",
   "execution_count": null,
   "id": "365f2cbf",
   "metadata": {},
   "outputs": [],
   "source": [
    "C = np.delete(guess, 1, 1)\n",
    "C = C.tolist()"
   ]
  },
  {
   "cell_type": "code",
   "execution_count": null,
   "id": "96685bc0",
   "metadata": {},
   "outputs": [],
   "source": [
    "C[78]"
   ]
  },
  {
   "cell_type": "code",
   "execution_count": null,
   "id": "be0af40c",
   "metadata": {},
   "outputs": [],
   "source": [
    "errfunc1 = lambda p, x, y: (gaussian(x, *p) - y)**2\n",
    "#guess1 = C[78]\n",
    "guess1 = [1396.112, 0.23, 2E-15]"
   ]
  },
  {
   "cell_type": "code",
   "execution_count": null,
   "id": "dc679680",
   "metadata": {},
   "outputs": [],
   "source": [
    "optim1, success = optimize.leastsq(errfunc1, guess1, args=(wl, flux))"
   ]
  },
  {
   "cell_type": "code",
   "execution_count": null,
   "id": "be5478fc",
   "metadata": {},
   "outputs": [],
   "source": [
    "optim1"
   ]
  },
  {
   "cell_type": "code",
   "execution_count": null,
   "id": "373f5e4f",
   "metadata": {},
   "outputs": [],
   "source": [
    "plt.figure(figsize=(16, 5))\n",
    "plt.plot(wl, flux, c='g', label='measurement')\n",
    "plt.plot(wl, gaussian(wl, *optim1),\n",
    "    lw=2, c='y', label='fit of 1 Gaussian')\n",
    "plt.ylim(-0.01*10**-13,0.25*10**-13)\n",
    "plt.xlim(1394,1400)\n",
    "plt.legend(loc='best')"
   ]
  },
  {
   "cell_type": "code",
   "execution_count": null,
   "id": "88daf8f7",
   "metadata": {},
   "outputs": [],
   "source": []
  }
 ],
 "metadata": {
  "kernelspec": {
   "display_name": "Python 3",
   "language": "python",
   "name": "python3"
  },
  "language_info": {
   "codemirror_mode": {
    "name": "ipython",
    "version": 3
   },
   "file_extension": ".py",
   "mimetype": "text/x-python",
   "name": "python",
   "nbconvert_exporter": "python",
   "pygments_lexer": "ipython3",
   "version": "3.7.10"
  }
 },
 "nbformat": 4,
 "nbformat_minor": 5
}
