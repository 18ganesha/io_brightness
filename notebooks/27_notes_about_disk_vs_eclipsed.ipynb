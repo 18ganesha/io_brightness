{
 "cells": [
  {
   "cell_type": "code",
   "execution_count": 1,
   "id": "4c2d3e62",
   "metadata": {},
   "outputs": [],
   "source": [
    "import numpy as np\n",
    "import matplotlib\n",
    "import matplotlib.pyplot as plt\n",
    "from scipy.optimize import curve_fit\n",
    "import warnings\n",
    "import pandas as pd\n",
    "import os\n",
    "import glob\n",
    "from astropy.utils.data import get_pkg_data_filename\n",
    "from astropy.io import fits\n",
    "from astropy.table import Table\n",
    "import scipy as scipy\n",
    "from scipy import optimize\n",
    "np.set_printoptions(threshold=np.inf)\n",
    "from scipy.optimize import differential_evolution"
   ]
  },
  {
   "cell_type": "code",
   "execution_count": 2,
   "id": "ed0b8629",
   "metadata": {},
   "outputs": [],
   "source": [
    "def gaussian(x, A, mu, sig):\n",
    "    return A*np.exp(-(x-mu)**2/(2*sig**2))"
   ]
  },
  {
   "cell_type": "code",
   "execution_count": 44,
   "id": "4f423b61",
   "metadata": {},
   "outputs": [],
   "source": [
    "hdulist1 = fits.open('../data/composite_Io_disk.fits')\n",
    "evt_data1 = Table(hdulist1[1].data)\n",
    "image_data1 = hdulist1[1].data\n",
    "df1 = pd.read_csv('../data/Io_Master_Line_List (1).csv') #spaces in csv file will make df object type and not float64\n",
    "#line = \"S I\"\n",
    "#target_mask = df.Species.str.endswith(line) #probably a better function but idk it right now\n",
    "#df = df[target_mask]\n",
    "df_wavelength1 = df1['Wavelength']\n",
    "df_species1 = df1['Species']\n",
    "wl1 = evt_data1['WAVELENGTH'].data\n",
    "flux1 = evt_data1['FLUX'].data"
   ]
  },
  {
   "cell_type": "code",
   "execution_count": 45,
   "id": "95fd9f6c",
   "metadata": {},
   "outputs": [],
   "source": [
    "hdulist2 = fits.open('../data/composite_Io_eclipsed.fits')\n",
    "evt_data2 = Table(hdulist2[1].data)\n",
    "image_data2 = hdulist2[1].data\n",
    "df2 = pd.read_csv('../data/Io_Master_Line_List (1).csv') #spaces in csv file will make df object type and not float64\n",
    "#line = \"S I\"\n",
    "#target_mask = df.Species.str.endswith(line) #probably a better function but idk it right now\n",
    "#df = df[target_mask]\n",
    "df_wavelength2 = df2['Wavelength']\n",
    "df_species2 = df2['Species']\n",
    "wl2 = evt_data2['WAVELENGTH'].data\n",
    "flux2 = evt_data2['FLUX'].data"
   ]
  },
  {
   "cell_type": "code",
   "execution_count": 46,
   "id": "fa5c596b",
   "metadata": {},
   "outputs": [],
   "source": [
    "wavelength_list = df_wavelength2.values.tolist()"
   ]
  },
  {
   "cell_type": "code",
   "execution_count": 163,
   "id": "b1650684",
   "metadata": {
    "scrolled": false
   },
   "outputs": [
    {
     "data": {
      "text/plain": [
       "Text(0.5, 1.0, 'COS Io Disk Spectrum at 1448.229')"
      ]
     },
     "execution_count": 163,
     "metadata": {},
     "output_type": "execute_result"
    },
    {
     "data": {
      "image/png": "[encoded data removed]",
      "text/plain": [
       "<Figure size 1152x360 with 1 Axes>"
      ]
     },
     "metadata": {
      "needs_background": "light"
     },
     "output_type": "display_data"
    }
   ],
   "source": [
    "i=91\n",
    "line = wavelength_list[i]\n",
    "left_bound = 0.999*line\n",
    "right_bound = 1.001*line\n",
    "sub_region1 = (evt_data1['WAVELENGTH'] > left_bound) & (evt_data1['WAVELENGTH'] < right_bound) #only take values within this area\n",
    "wl1 = evt_data1['WAVELENGTH'][sub_region1]\n",
    "flux1 = evt_data1['FLUX'][sub_region1]\n",
    "unc1 = 0.1*flux1 #placeholder uncertainty\n",
    "wl1 = wl1.data\n",
    "flux1 = flux1.data\n",
    "\n",
    "sub_region2 = (evt_data2['WAVELENGTH'] > left_bound) & (evt_data2['WAVELENGTH'] < right_bound) #only take values within this area\n",
    "wl2 = evt_data2['WAVELENGTH'][sub_region2]\n",
    "flux2 = evt_data2['FLUX'][sub_region2]\n",
    "unc2 = 0.1*flux2 #placeholder uncertainty\n",
    "wl2 = wl2.data\n",
    "flux2 = flux2.data/10**-16\n",
    "\n",
    "plt.figure(figsize=(16, 5))\n",
    "plt.plot(wl1, flux1, 'g.', label='disk')\n",
    "plt.plot(wl2, flux2, 'r.', label='eclipse')\n",
    "plt.axvline(x=line, color = 'blue', linestyle = 'dotted')\n",
    "plt.title('COS Io Disk Spectrum at {}'.format(line))"
   ]
  },
  {
   "cell_type": "code",
   "execution_count": null,
   "id": "c253db0f",
   "metadata": {},
   "outputs": [],
   "source": []
  },
  {
   "cell_type": "code",
   "execution_count": null,
   "id": "97244c8e",
   "metadata": {},
   "outputs": [],
   "source": []
  }
 ],
 "metadata": {
  "kernelspec": {
   "display_name": "Python 3",
   "language": "python",
   "name": "python3"
  },
  "language_info": {
   "codemirror_mode": {
    "name": "ipython",
    "version": 3
   },
   "file_extension": ".py",
   "mimetype": "text/x-python",
   "name": "python",
   "nbconvert_exporter": "python",
   "pygments_lexer": "ipython3",
   "version": "3.7.10"
  }
 },
 "nbformat": 4,
 "nbformat_minor": 5
}
