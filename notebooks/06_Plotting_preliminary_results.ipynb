{
 "cells": [
  {
   "cell_type": "code",
   "execution_count": 2,
   "id": "7b7588d9",
   "metadata": {},
   "outputs": [],
   "source": [
    "import numpy as np\n",
    "import pandas as pd\n",
    "import os\n",
    "import glob\n",
    "from astropy.io import fits\n",
    "import emcee\n",
    "import warnings\n",
    "import matplotlib.pyplot as plt\n",
    "import seaborn as sns\n",
    "from astropy.time import Time\n",
    "\n",
    "%matplotlib inline\n",
    "%config InlineBackend.figure_format='retina'\n",
    "sns.set_context('paper')\n",
    "\n",
    "from pandas.core.common import SettingWithCopyWarning\n",
    "\n",
    "warnings.simplefilter(action=\"ignore\", category=SettingWithCopyWarning)"
   ]
  },
  {
   "cell_type": "code",
   "execution_count": 3,
   "id": "3507401a",
   "metadata": {},
   "outputs": [],
   "source": [
    "df = pd.read_csv('../data/io_preliminary_results.csv')"
   ]
  },
  {
   "cell_type": "code",
   "execution_count": 4,
   "id": "318f36e2",
   "metadata": {},
   "outputs": [
    {
     "data": {
      "text/html": [
       "<div>\n",
       "<style scoped>\n",
       "    .dataframe tbody tr th:only-of-type {\n",
       "        vertical-align: middle;\n",
       "    }\n",
       "\n",
       "    .dataframe tbody tr th {\n",
       "        vertical-align: top;\n",
       "    }\n",
       "\n",
       "    .dataframe thead th {\n",
       "        text-align: right;\n",
       "    }\n",
       "</style>\n",
       "<table border=\"1\" class=\"dataframe\">\n",
       "  <thead>\n",
       "    <tr style=\"text-align: right;\">\n",
       "      <th></th>\n",
       "      <th>brightness</th>\n",
       "      <th>brightness_unc</th>\n",
       "      <th>gaussian_width</th>\n",
       "      <th>gaussian_width_unc</th>\n",
       "      <th>int_wv</th>\n",
       "      <th>obs_line_center</th>\n",
       "      <th>obs_line_center_unc</th>\n",
       "    </tr>\n",
       "  </thead>\n",
       "  <tbody>\n",
       "    <tr>\n",
       "      <th>0</th>\n",
       "      <td>-2.103751</td>\n",
       "      <td>0.245665</td>\n",
       "      <td>0.104852</td>\n",
       "      <td>0.014980</td>\n",
       "      <td>1208.850</td>\n",
       "      <td>1208.987646</td>\n",
       "      <td>0.006165</td>\n",
       "    </tr>\n",
       "    <tr>\n",
       "      <th>1</th>\n",
       "      <td>12.200903</td>\n",
       "      <td>6.988241</td>\n",
       "      <td>0.065915</td>\n",
       "      <td>0.030816</td>\n",
       "      <td>1211.212</td>\n",
       "      <td>1210.969454</td>\n",
       "      <td>0.612868</td>\n",
       "    </tr>\n",
       "    <tr>\n",
       "      <th>2</th>\n",
       "      <td>66.134837</td>\n",
       "      <td>3540.150051</td>\n",
       "      <td>0.054823</td>\n",
       "      <td>0.001590</td>\n",
       "      <td>1211.380</td>\n",
       "      <td>1211.370112</td>\n",
       "      <td>0.002631</td>\n",
       "    </tr>\n",
       "  </tbody>\n",
       "</table>\n",
       "</div>"
      ],
      "text/plain": [
       "   brightness  brightness_unc  gaussian_width  gaussian_width_unc    int_wv  \\\n",
       "0   -2.103751        0.245665        0.104852            0.014980  1208.850   \n",
       "1   12.200903        6.988241        0.065915            0.030816  1211.212   \n",
       "2   66.134837     3540.150051        0.054823            0.001590  1211.380   \n",
       "\n",
       "   obs_line_center  obs_line_center_unc  \n",
       "0      1208.987646             0.006165  \n",
       "1      1210.969454             0.612868  \n",
       "2      1211.370112             0.002631  "
      ]
     },
     "execution_count": 4,
     "metadata": {},
     "output_type": "execute_result"
    }
   ],
   "source": [
    "df"
   ]
  },
  {
   "cell_type": "code",
   "execution_count": null,
   "id": "7291dd30",
   "metadata": {},
   "outputs": [],
   "source": []
  }
 ],
 "metadata": {
  "kernelspec": {
   "display_name": "Python 3",
   "language": "python",
   "name": "python3"
  },
  "language_info": {
   "codemirror_mode": {
    "name": "ipython",
    "version": 3
   },
   "file_extension": ".py",
   "mimetype": "text/x-python",
   "name": "python",
   "nbconvert_exporter": "python",
   "pygments_lexer": "ipython3",
   "version": "3.7.10"
  }
 },
 "nbformat": 4,
 "nbformat_minor": 5
}
