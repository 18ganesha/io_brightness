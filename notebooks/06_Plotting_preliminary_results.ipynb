{
 "cells": [
  {
   "cell_type": "code",
   "execution_count": 23,
   "id": "86ac68c6",
   "metadata": {},
   "outputs": [],
   "source": [
    "import numpy as np\n",
    "import pandas as pd\n",
    "import os\n",
    "import glob\n",
    "from astropy.io import fits\n",
    "import emcee\n",
    "import warnings\n",
    "import matplotlib.pyplot as plt\n",
    "import seaborn as sns\n",
    "from astropy.time import Time\n",
    "\n",
    "%matplotlib inline\n",
    "%config InlineBackend.figure_format='retina'\n",
    "sns.set_context('paper')\n",
    "\n",
    "from pandas.core.common import SettingWithCopyWarning\n",
    "\n",
    "warnings.simplefilter(action=\"ignore\", category=SettingWithCopyWarning)"
   ]
  },
  {
   "cell_type": "code",
   "execution_count": 24,
   "id": "fd4cd038",
   "metadata": {},
   "outputs": [],
   "source": [
    "df = pd.read_csv('../data/io_preliminary_results_2.csv')"
   ]
  },
  {
   "cell_type": "code",
   "execution_count": 25,
   "id": "e6428767",
   "metadata": {},
   "outputs": [
    {
     "data": {
      "text/html": [
       "<div>\n",
       "<style scoped>\n",
       "    .dataframe tbody tr th:only-of-type {\n",
       "        vertical-align: middle;\n",
       "    }\n",
       "\n",
       "    .dataframe tbody tr th {\n",
       "        vertical-align: top;\n",
       "    }\n",
       "\n",
       "    .dataframe thead th {\n",
       "        text-align: right;\n",
       "    }\n",
       "</style>\n",
       "<table border=\"1\" class=\"dataframe\">\n",
       "  <thead>\n",
       "    <tr style=\"text-align: right;\">\n",
       "      <th></th>\n",
       "      <th>brightness</th>\n",
       "      <th>brightness_unc</th>\n",
       "      <th>gaussian_width</th>\n",
       "      <th>gaussian_width_unc</th>\n",
       "      <th>int_wv</th>\n",
       "      <th>obs_line_center</th>\n",
       "      <th>obs_line_center_unc</th>\n",
       "    </tr>\n",
       "  </thead>\n",
       "  <tbody>\n",
       "    <tr>\n",
       "      <th>0</th>\n",
       "      <td>9.567195e-19</td>\n",
       "      <td>5.050943e-20</td>\n",
       "      <td>0.182068</td>\n",
       "      <td>0.004037</td>\n",
       "      <td>1208.850</td>\n",
       "      <td>1208.986858</td>\n",
       "      <td>0.009198</td>\n",
       "    </tr>\n",
       "    <tr>\n",
       "      <th>1</th>\n",
       "      <td>7.399353e-18</td>\n",
       "      <td>2.736936e-18</td>\n",
       "      <td>0.083925</td>\n",
       "      <td>0.030241</td>\n",
       "      <td>1211.212</td>\n",
       "      <td>1210.706342</td>\n",
       "      <td>0.259752</td>\n",
       "    </tr>\n",
       "    <tr>\n",
       "      <th>2</th>\n",
       "      <td>-3.430411e-18</td>\n",
       "      <td>9.285372e-20</td>\n",
       "      <td>0.053892</td>\n",
       "      <td>0.001337</td>\n",
       "      <td>1211.380</td>\n",
       "      <td>1211.368663</td>\n",
       "      <td>0.002410</td>\n",
       "    </tr>\n",
       "    <tr>\n",
       "      <th>3</th>\n",
       "      <td>-1.415385e-17</td>\n",
       "      <td>2.320230e-19</td>\n",
       "      <td>0.049160</td>\n",
       "      <td>0.000600</td>\n",
       "      <td>1212.795</td>\n",
       "      <td>1212.915104</td>\n",
       "      <td>0.000826</td>\n",
       "    </tr>\n",
       "    <tr>\n",
       "      <th>4</th>\n",
       "      <td>-9.399315e-18</td>\n",
       "      <td>1.625187e-19</td>\n",
       "      <td>0.035978</td>\n",
       "      <td>0.000423</td>\n",
       "      <td>1218.595</td>\n",
       "      <td>1218.616261</td>\n",
       "      <td>0.000504</td>\n",
       "    </tr>\n",
       "  </tbody>\n",
       "</table>\n",
       "</div>"
      ],
      "text/plain": [
       "     brightness  brightness_unc  gaussian_width  gaussian_width_unc    int_wv  \\\n",
       "0  9.567195e-19    5.050943e-20        0.182068            0.004037  1208.850   \n",
       "1  7.399353e-18    2.736936e-18        0.083925            0.030241  1211.212   \n",
       "2 -3.430411e-18    9.285372e-20        0.053892            0.001337  1211.380   \n",
       "3 -1.415385e-17    2.320230e-19        0.049160            0.000600  1212.795   \n",
       "4 -9.399315e-18    1.625187e-19        0.035978            0.000423  1218.595   \n",
       "\n",
       "   obs_line_center  obs_line_center_unc  \n",
       "0      1208.986858             0.009198  \n",
       "1      1210.706342             0.259752  \n",
       "2      1211.368663             0.002410  \n",
       "3      1212.915104             0.000826  \n",
       "4      1218.616261             0.000504  "
      ]
     },
     "execution_count": 25,
     "metadata": {},
     "output_type": "execute_result"
    }
   ],
   "source": [
    "df"
   ]
  },
  {
   "cell_type": "code",
   "execution_count": 26,
   "id": "2e1d914b",
   "metadata": {},
   "outputs": [],
   "source": [
    "df_wv = df['int_wv']\n",
    "df_obs = df['obs_line_center']"
   ]
  },
  {
   "cell_type": "code",
   "execution_count": 27,
   "id": "a127a9d2",
   "metadata": {},
   "outputs": [
    {
     "data": {
      "text/plain": [
       "0   -0.136858\n",
       "1    0.505658\n",
       "2    0.011337\n",
       "3   -0.120104\n",
       "4   -0.021261\n",
       "dtype: float64"
      ]
     },
     "execution_count": 27,
     "metadata": {},
     "output_type": "execute_result"
    }
   ],
   "source": [
    "df_diff = df_wv-df_obs\n",
    "df_diff"
   ]
  },
  {
   "cell_type": "markdown",
   "id": "3e58b9fb",
   "metadata": {},
   "source": [
    "Let's see if we can tell how much the lines shifted based on the MCMC process which also predicts a center wavelength."
   ]
  },
  {
   "cell_type": "code",
   "execution_count": 28,
   "id": "a789ca37",
   "metadata": {},
   "outputs": [
    {
     "name": "stdout",
     "output_type": "stream",
     "text": [
      "0.047754328375049226\n",
      "0.2358062061275039\n"
     ]
    },
    {
     "data": {
      "image/png": "[encoded data removed]",
      "text/plain": [
       "<Figure size 432x288 with 1 Axes>"
      ]
     },
     "metadata": {
      "image/png": {
       "height": 249,
       "width": 377
      },
      "needs_background": "light"
     },
     "output_type": "display_data"
    }
   ],
   "source": [
    "diff_mean = np.mean(df_diff)\n",
    "diff_std = np.std(df_diff)\n",
    "plt.hist(df_diff, bins = np.arange(diff_mean-1, diff_mean+1, 0.05));\n",
    "print(diff_mean)\n",
    "print(diff_std)"
   ]
  },
  {
   "cell_type": "code",
   "execution_count": null,
   "id": "ee5a6774",
   "metadata": {},
   "outputs": [],
   "source": []
  }
 ],
 "metadata": {
  "kernelspec": {
   "display_name": "Python 3",
   "language": "python",
   "name": "python3"
  },
  "language_info": {
   "codemirror_mode": {
    "name": "ipython",
    "version": 3
   },
   "file_extension": ".py",
   "mimetype": "text/x-python",
   "name": "python",
   "nbconvert_exporter": "python",
   "pygments_lexer": "ipython3",
   "version": "3.7.10"
  }
 },
 "nbformat": 4,
 "nbformat_minor": 5
}
