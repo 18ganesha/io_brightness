{
 "cells": [
  {
   "cell_type": "code",
   "execution_count": 1,
   "id": "dc1b58a2",
   "metadata": {},
   "outputs": [],
   "source": [
    "import pandas as pd\n",
    "import os\n",
    "import glob\n",
    "from astropy.utils.data import get_pkg_data_filename\n",
    "from astropy.io import fits\n",
    "from astropy.table import Table\n",
    "import matplotlib.pyplot as plt\n",
    "import numpy as np\n",
    "import warnings\n",
    "import scipy as scipy\n",
    "from scipy import optimize\n",
    "from scipy.optimize import differential_evolution\n",
    "from tqdm import tqdm\n",
    "from matplotlib.pyplot import cm"
   ]
  },
  {
   "cell_type": "code",
   "execution_count": 2,
   "id": "ec7d6d1b",
   "metadata": {},
   "outputs": [],
   "source": [
    "hdulist = fits.open('../data/composite_Io_eclipsed.fits')\n",
    "evt_data = Table(hdulist[1].data)\n",
    "image_data = hdulist[1].data\n",
    "df = pd.read_csv('../data/Io_Master_Line_List (1).csv') #spaces in csv file will make df object type and not float64\n",
    "line = \"S I\"\n",
    "target_mask = df.Species.str.endswith(line) #probably a better function but idk it right now\n",
    "df = df[target_mask]\n",
    "df_wavelength = df['Wavelength']\n",
    "df_species = df['Species']"
   ]
  },
  {
   "cell_type": "code",
   "execution_count": 3,
   "id": "9ae4363e",
   "metadata": {},
   "outputs": [],
   "source": [
    "def gaussian(x, mu, sig, A):\n",
    "    return A*np.exp(-(x-mu)**2/(2*sig**2))"
   ]
  },
  {
   "cell_type": "code",
   "execution_count": 4,
   "id": "cc12486d",
   "metadata": {},
   "outputs": [],
   "source": [
    "def double_gaussian(x, mu, sig, A, mu2, sig2, A2):\n",
    "    return gaussian(x, mu, sig, A)+gaussian(x, mu2, sig2, A2)"
   ]
  },
  {
   "cell_type": "code",
   "execution_count": 5,
   "id": "9dede715",
   "metadata": {},
   "outputs": [],
   "source": [
    "array = pd.read_csv('../data/test_array.csv') #spaces in csv file will make df object type and not float64\n",
    "array = array.loc[array['Species'].str.endswith('S I')]"
   ]
  },
  {
   "cell_type": "code",
   "execution_count": 6,
   "id": "47823570",
   "metadata": {},
   "outputs": [],
   "source": [
    "guess = array.to_numpy()\n",
    "wl = evt_data['WAVELENGTH'].T\n",
    "flux = evt_data['FLUX'].T\n",
    "wl = wl.data\n",
    "flux = flux.data\n",
    "wl = wl.flatten()\n",
    "flux = flux.flatten()"
   ]
  },
  {
   "cell_type": "code",
   "execution_count": 7,
   "id": "3a1b73ed",
   "metadata": {},
   "outputs": [],
   "source": [
    "C = np.delete(guess, 1, 1)\n",
    "C = C.tolist()"
   ]
  },
  {
   "cell_type": "code",
   "execution_count": 8,
   "id": "d96f6900",
   "metadata": {},
   "outputs": [
    {
     "data": {
      "text/plain": [
       "([1392.588, 0.23, 2.05e-15],\n",
       " ([1392.588, 0.23, 2.05e-15], [1396.112, 0.23, 4.95e-15]))"
      ]
     },
     "execution_count": 8,
     "metadata": {},
     "output_type": "execute_result"
    }
   ],
   "source": [
    "errfunc1 = lambda p, x, y: (gaussian(x, *p) - y)**2\n",
    "errfunc2 = lambda p, x, y: (double_gaussian(x, *p) - y)**2\n",
    "x = 41 #28 is the biggest problem file, show 15 to see overlap in fit and data\n",
    "guess1 = C[x]\n",
    "#guess1 = [1256.093, 0.23, 7.89*10**-17] #manually input guess where sigma is smaller\n",
    "guess2 = C[x],C[x+1]\n",
    "guess1, guess2"
   ]
  },
  {
   "cell_type": "code",
   "execution_count": 9,
   "id": "5b6846d8",
   "metadata": {},
   "outputs": [],
   "source": [
    "optim1, success = optimize.leastsq(errfunc1, guess1, args=(wl, flux))\n",
    "optim2, success = optimize.leastsq(errfunc2, guess2, args=(wl, flux))"
   ]
  },
  {
   "cell_type": "code",
   "execution_count": 10,
   "id": "f4dd25be",
   "metadata": {},
   "outputs": [
    {
     "data": {
      "text/plain": [
       "array([1.39259522e+03, 2.33032079e-01, 1.55065907e-15])"
      ]
     },
     "execution_count": 10,
     "metadata": {},
     "output_type": "execute_result"
    }
   ],
   "source": [
    "optim1"
   ]
  },
  {
   "cell_type": "code",
   "execution_count": 11,
   "id": "1bda2307",
   "metadata": {},
   "outputs": [
    {
     "data": {
      "text/plain": [
       "<matplotlib.legend.Legend at 0x1f6bd328e08>"
      ]
     },
     "execution_count": 11,
     "metadata": {},
     "output_type": "execute_result"
    },
    {
     "data": {
      "image/png": "[encoded data removed]",
      "text/plain": [
       "<Figure size 1152x360 with 1 Axes>"
      ]
     },
     "metadata": {
      "needs_background": "light"
     },
     "output_type": "display_data"
    }
   ],
   "source": [
    "plt.figure(figsize=(16, 5))\n",
    "plt.plot(wl, flux,'g.', label='measurement')\n",
    "plt.plot(wl, gaussian(wl, *optim1),\n",
    "    lw=2, c='y', label='fit of 1 Gaussian')\n",
    "plt.plot(wl, double_gaussian(wl, *optim2),\n",
    "    lw=1, c='r', ls='--', label='fit of 2 Gaussians')\n",
    "plt.ylim(-0.01*10**-13,0.25*10**-13)\n",
    "plt.xlim(guess1[0]-3,guess1[0]+3)\n",
    "plt.legend(loc='best')"
   ]
  },
  {
   "cell_type": "code",
   "execution_count": null,
   "id": "15e7c950",
   "metadata": {},
   "outputs": [],
   "source": [
    "def fit_whole_spectra(array):\n",
    "    params = np.zeros((len(C),3))\n",
    "    for index in tqdm(range(0, len(array))):\n",
    "        guess1 = C[index]\n",
    "        optim1, success = optimize.leastsq(errfunc1, guess1, args=(wl, flux))\n",
    "        params[index] = optim1\n",
    "        #params = np.append(params,optim1,axis=0)\n",
    "    return params"
   ]
  },
  {
   "cell_type": "code",
   "execution_count": null,
   "id": "88632569",
   "metadata": {},
   "outputs": [],
   "source": [
    "params = fit_whole_spectra(C)"
   ]
  },
  {
   "cell_type": "code",
   "execution_count": null,
   "id": "bd343eba",
   "metadata": {},
   "outputs": [],
   "source": [
    "mu = params[:,0]\n",
    "sigma = params[:,1]\n",
    "amp = params[:,2]"
   ]
  },
  {
   "cell_type": "code",
   "execution_count": null,
   "id": "f204dd64",
   "metadata": {},
   "outputs": [],
   "source": [
    "plt.figure(figsize=(16, 5))\n",
    "plt.plot(wl, flux,'g.', label='measurement')\n",
    "for index in range(0,len(params)):\n",
    "    plt.plot(wl, gaussian(wl, mu[index], sigma[index], amp[index]), lw=1, c='r')\n",
    "#plt.plot(wl, gaussian(wl, mu[15], sigma[15], amp[15]), lw=2, c='y', label='fit of 1 Gaussian')\n",
    "plt.ylim(-0.01*10**-13,0.25*10**-13)\n",
    "#plt.xlim(1280,1320)\n",
    "plt.legend(loc='best')"
   ]
  },
  {
   "cell_type": "markdown",
   "id": "4390b937",
   "metadata": {},
   "source": [
    "Let's use the method of least_squares() with bounds instead of least_sq()."
   ]
  },
  {
   "cell_type": "code",
   "execution_count": 21,
   "id": "3adad9d5",
   "metadata": {},
   "outputs": [
    {
     "name": "stdout",
     "output_type": "stream",
     "text": [
      "Optimization terminated successfully.\n",
      "         Current function value: 0.000000\n",
      "         Iterations: 73\n",
      "         Function evaluations: 131\n"
     ]
    }
   ],
   "source": [
    "import scipy.optimize as sop\n",
    "import numpy as np\n",
    "def ftest(x):\n",
    "    x,y,z = x\n",
    "    data = np.array([3.65,2.41,1.59])# arbitrary & just for testing\n",
    "    model = np.array([x**2,y**2,z**2])# arbitrary & just for testing\n",
    "    residuals = data - model \n",
    "    return residuals\n",
    "def ftest2(x):\n",
    "    return sum(ftest(x)**2)# to ask fmin to minimize the chi2 but it can be anything\n",
    "p0 = np.array([1,2,3])# arbitrary & just for testing\n",
    "opt = sop.fmin(ftest2, p0)"
   ]
  },
  {
   "cell_type": "code",
   "execution_count": 22,
   "id": "cbc8fc8d",
   "metadata": {},
   "outputs": [],
   "source": [
    "C = np.delete(guess, 1, 1)"
   ]
  },
  {
   "cell_type": "code",
   "execution_count": 23,
   "id": "4565724e",
   "metadata": {},
   "outputs": [],
   "source": [
    "test = C.astype('float64')\n",
    "test = np.delete(guess, 1, 1)\n",
    "test = test.astype(dtype=np.float64)"
   ]
  },
  {
   "cell_type": "code",
   "execution_count": 24,
   "id": "4844ebcc",
   "metadata": {},
   "outputs": [
    {
     "data": {
      "text/plain": [
       "[1302.337, 0.23, 0.5]"
      ]
     },
     "execution_count": 24,
     "metadata": {},
     "output_type": "execute_result"
    }
   ],
   "source": [
    "x = 35 #28 is the biggest problem file, show 15 to see overlap in fit and data\n",
    "#guess1 = test[x]\n",
    "guess1 = [1302.337, 0.23, 0.5] #manually input guess where sigma is smaller\n",
    "guess1"
   ]
  },
  {
   "cell_type": "code",
   "execution_count": 25,
   "id": "9e0382cc",
   "metadata": {},
   "outputs": [],
   "source": [
    "opt = optimize.least_squares(errfunc1, guess1, args=(wl, flux/10**-13), bounds=([guess1[0]-0.5, -np.inf, -np.inf],\n",
    "                                                                        [guess1[0]+0.5, np.inf, np.inf]))\n",
    "nob = optimize.least_squares(errfunc1, guess1, args=(wl, flux/10**-13))\n",
    "opt2 = optimize.least_squares(errfunc1, guess1, args=(flux/10**-13,wl), bounds=([guess1[0]-0.5, -np.inf, -np.inf],\n",
    "                                                                        [guess1[0]+0.5, np.inf, np.inf]))\n",
    "nob2 = optimize.least_squares(errfunc1, guess1, args=(flux/10**-13,wl))"
   ]
  },
  {
   "cell_type": "code",
   "execution_count": 26,
   "id": "3baf72b1",
   "metadata": {},
   "outputs": [
    {
     "data": {
      "text/plain": [
       "(array([1.30224272e+03, 2.76724533e-01, 1.12065672e-01]),\n",
       " array([1.30223899e+03, 2.74950236e-01, 1.12535522e-01]),\n",
       " array([1.302337e+03, 2.300000e-01, 5.000000e-01]),\n",
       " array([1.302337e+03, 2.300000e-01, 5.000000e-01]))"
      ]
     },
     "execution_count": 26,
     "metadata": {},
     "output_type": "execute_result"
    }
   ],
   "source": [
    "opt['x'], nob['x'], opt2['x'], nob2['x']"
   ]
  },
  {
   "cell_type": "code",
   "execution_count": 28,
   "id": "615c5fde",
   "metadata": {},
   "outputs": [
    {
     "data": {
      "text/plain": [
       "<matplotlib.legend.Legend at 0x1f6bd88e9c8>"
      ]
     },
     "execution_count": 28,
     "metadata": {},
     "output_type": "execute_result"
    },
    {
     "data": {
      "image/png": "[encoded data removed]",
      "text/plain": [
       "<Figure size 1152x360 with 1 Axes>"
      ]
     },
     "metadata": {
      "needs_background": "light"
     },
     "output_type": "display_data"
    }
   ],
   "source": [
    "plt.figure(figsize=(16, 5))\n",
    "plt.plot(wl, flux/10**-13,'g.', label='measurement')\n",
    "plt.plot(wl, gaussian(wl, *opt['x']),\n",
    "    lw=2, c='y', label='fit of 1 Gaussian')\n",
    "plt.plot(wl, gaussian(wl, *guess1),\n",
    "    lw=1, c='b', label='guess 1')\n",
    "plt.plot(wl, gaussian(wl, *nob['x']),\n",
    "    lw=2, c='red', label='fit of 1 Gaussian')\n",
    "#plt.plot(wl, double_gaussian(wl, *optim2),\n",
    "    #lw=1, c='r', ls='--', label='fit of 2 Gaussians')\n",
    "#plt.ylim(-0.01*10**-13,0.25*10**-13)\n",
    "plt.xlim(guess1[0]-3,guess1[0]+3)\n",
    "plt.legend(loc='best')"
   ]
  },
  {
   "cell_type": "code",
   "execution_count": null,
   "id": "29d86e0d",
   "metadata": {},
   "outputs": [],
   "source": []
  }
 ],
 "metadata": {
  "kernelspec": {
   "display_name": "Python 3",
   "language": "python",
   "name": "python3"
  },
  "language_info": {
   "codemirror_mode": {
    "name": "ipython",
    "version": 3
   },
   "file_extension": ".py",
   "mimetype": "text/x-python",
   "name": "python",
   "nbconvert_exporter": "python",
   "pygments_lexer": "ipython3",
   "version": "3.7.10"
  }
 },
 "nbformat": 4,
 "nbformat_minor": 5
}
