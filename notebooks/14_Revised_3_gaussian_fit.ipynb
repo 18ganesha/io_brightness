{
 "cells": [
  {
   "cell_type": "code",
   "execution_count": 1,
   "id": "50aaae3a",
   "metadata": {},
   "outputs": [],
   "source": [
    "import numpy as np\n",
    "import matplotlib\n",
    "import matplotlib.pyplot as plt\n",
    "from scipy.optimize import curve_fit\n",
    "import warnings\n",
    "import pandas as pd\n",
    "import os\n",
    "import glob\n",
    "from astropy.utils.data import get_pkg_data_filename\n",
    "from astropy.io import fits\n",
    "from astropy.table import Table\n",
    "import scipy as scipy\n",
    "from scipy import optimize\n",
    "from scipy.optimize import differential_evolution"
   ]
  },
  {
   "cell_type": "code",
   "execution_count": 2,
   "id": "ac82e5e2",
   "metadata": {},
   "outputs": [],
   "source": [
    "hdulist = fits.open('../data/composite_Io_eclipsed.fits')\n",
    "evt_data = Table(hdulist[1].data)\n",
    "image_data = hdulist[1].data\n",
    "df = pd.read_csv('../data/Io_Master_Line_List (1).csv') #spaces in csv file will make df object type and not float64\n",
    "#line = \"S I\"\n",
    "#target_mask = df.Species.str.endswith(line) #probably a better function but idk it right now\n",
    "#df = df[target_mask]\n",
    "df_wavelength = df['Wavelength']\n",
    "df_species = df['Species']\n",
    "wl = evt_data['WAVELENGTH'].data\n",
    "flux = evt_data['FLUX'].data"
   ]
  },
  {
   "cell_type": "code",
   "execution_count": 3,
   "id": "0af66a99",
   "metadata": {},
   "outputs": [],
   "source": [
    "def gaussian(x, A, mu, sig):\n",
    "    return A*np.exp(-(x-mu)**2/(2*sig**2))"
   ]
  },
  {
   "cell_type": "code",
   "execution_count": 4,
   "id": "4af6c97c",
   "metadata": {},
   "outputs": [],
   "source": [
    "def single_gaussian(x, A, mu, sig):\n",
    "    return triple_gaussian(x, A, mu, sig, 0, 0, 1, 0, 0, 1)"
   ]
  },
  {
   "cell_type": "code",
   "execution_count": 5,
   "id": "b54f720b",
   "metadata": {},
   "outputs": [],
   "source": [
    "def triple_gaussian(x, A, mu, sig, A2, mu2, sig2, A3, mu3, sig3):\n",
    "    return (gaussian(x, A, mu, sig) + gaussian(x, A2, mu2, sig2) + gaussian(x, A3, mu3, sig3))"
   ]
  },
  {
   "cell_type": "code",
   "execution_count": 6,
   "id": "8dd9738f",
   "metadata": {},
   "outputs": [],
   "source": [
    "def double_gaussian(x, A, mu, sig, A2, mu2, sig2):\n",
    "    return triple_gaussian(x, A, mu, sig, A2, mu2, sig2, 0, 0, 1) #change 0 to 1 for orig"
   ]
  },
  {
   "cell_type": "markdown",
   "id": "206b0c37",
   "metadata": {},
   "source": [
    "This code is to look at specific sections of the spectra."
   ]
  },
  {
   "cell_type": "code",
   "execution_count": 7,
   "id": "492a7407",
   "metadata": {},
   "outputs": [],
   "source": [
    "line = 1389.154\n",
    "left_bound = 0.999*line\n",
    "right_bound = 1.001*line\n",
    "sub_region = (evt_data['WAVELENGTH'] > left_bound) & (evt_data['WAVELENGTH'] < right_bound) #only take values within this area\n",
    "wl = evt_data['WAVELENGTH'][sub_region]\n",
    "flux = evt_data['FLUX'][sub_region]\n",
    "unc = 0.1*flux #placeholder uncertainty\n",
    "wl = wl.data\n",
    "flux = flux.data/10**-13"
   ]
  },
  {
   "cell_type": "code",
   "execution_count": 8,
   "id": "123279ff",
   "metadata": {},
   "outputs": [],
   "source": [
    "errfunc3 = lambda p, x, y: (triple_gaussian(x, *p) - y)**2\n",
    "errfunc2 = lambda p, x, y: (double_gaussian(x, *p) - y)**2\n",
    "errfunc1 = lambda p, x, y: (gaussian(x, *p) - y)**2\n",
    "guess3 = [0.5, line, 0.01, 0.6, line+1, 0.01, 1, line-1, 0.01]  # I guess there are 3 peaks, 2 are clear, but between them there seems to be another one, based on the change in slope smoothness there\n",
    "guess2 = [0.5, line, 0.01, 1, line+1, 0.01]  # I removed the peak I'm not too sure about\n",
    "guess1 = [0.5, line, 0.01]"
   ]
  },
  {
   "cell_type": "code",
   "execution_count": 9,
   "id": "77351119",
   "metadata": {},
   "outputs": [],
   "source": [
    "optim3, success = optimize.leastsq(errfunc3, guess3[:], args=(wl, flux))\n",
    "optim2, success = optimize.leastsq(errfunc2, guess2[:], args=(wl, flux))\n",
    "optim1, success = optimize.leastsq(errfunc1, guess1[:], args=(wl, flux))"
   ]
  },
  {
   "cell_type": "code",
   "execution_count": null,
   "id": "6db92f8e",
   "metadata": {},
   "outputs": [],
   "source": [
    "optim3"
   ]
  },
  {
   "cell_type": "code",
   "execution_count": null,
   "id": "271ea49e",
   "metadata": {},
   "outputs": [],
   "source": [
    "plt.figure(figsize=(16, 5))\n",
    "plt.plot(wl, flux, c='g', label='measurement')\n",
    "plt.plot(wl, triple_gaussian(wl, *optim3),\n",
    "    lw=3, c='b', label='fit of 3 Gaussians')\n",
    "plt.plot(wl, single_gaussian(wl, *optim1),\n",
    "    lw=2, c='y', label='fit of 1 Gaussian')\n",
    "plt.plot(wl, double_gaussian(wl, *optim2),\n",
    "    lw=1, c='r', ls='--', label='fit of 2 Gaussians')\n",
    "plt.legend(loc='best')"
   ]
  },
  {
   "cell_type": "markdown",
   "id": "e4231231",
   "metadata": {},
   "source": [
    "Now let's try doing this for the whole spectra and giving it an array of the 90+ features."
   ]
  },
  {
   "cell_type": "code",
   "execution_count": null,
   "id": "5c9115ef",
   "metadata": {},
   "outputs": [],
   "source": [
    "wl = evt_data['WAVELENGTH'].T\n",
    "flux = evt_data['FLUX'].T\n",
    "unc = 0.1*flux #placeholder uncertainty\n",
    "wl = wl.data\n",
    "flux = flux.data/10**-13"
   ]
  },
  {
   "cell_type": "code",
   "execution_count": null,
   "id": "dd65e066",
   "metadata": {},
   "outputs": [],
   "source": [
    "errfunc3 = lambda p, x, y: (triple_gaussian(x, *p) - y)**2\n",
    "errfunc2 = lambda p, x, y: (double_gaussian(x, *p) - y)**2\n",
    "guess3 = [0.5, line, 0.01, 0.6, line+1, 0.01, 1, line-1, 0.01]  # I guess there are 3 peaks, 2 are clear, but between them there seems to be another one, based on the change in slope smoothness there\n",
    "guess2 = [0.5, line, 0.01, 1, line+1, 0.01]  # I removed the peak I'm not too sure about"
   ]
  },
  {
   "cell_type": "code",
   "execution_count": null,
   "id": "f4d46bfe",
   "metadata": {},
   "outputs": [],
   "source": [
    "optim3, success = optimize.leastsq(errfunc3, guess3[:], args=(wl, flux))\n",
    "optim2, success = optimize.leastsq(errfunc2, guess2[:], args=(wl, flux))"
   ]
  },
  {
   "cell_type": "code",
   "execution_count": null,
   "id": "99fc36e2",
   "metadata": {},
   "outputs": [],
   "source": []
  }
 ],
 "metadata": {
  "kernelspec": {
   "display_name": "Python 3",
   "language": "python",
   "name": "python3"
  },
  "language_info": {
   "codemirror_mode": {
    "name": "ipython",
    "version": 3
   },
   "file_extension": ".py",
   "mimetype": "text/x-python",
   "name": "python",
   "nbconvert_exporter": "python",
   "pygments_lexer": "ipython3",
   "version": "3.7.10"
  }
 },
 "nbformat": 4,
 "nbformat_minor": 5
}
