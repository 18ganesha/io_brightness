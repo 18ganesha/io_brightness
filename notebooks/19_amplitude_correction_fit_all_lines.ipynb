{
 "cells": [
  {
   "cell_type": "code",
   "execution_count": 79,
   "id": "1a224839",
   "metadata": {},
   "outputs": [],
   "source": [
    "import pandas as pd\n",
    "import os\n",
    "import glob\n",
    "from astropy.utils.data import get_pkg_data_filename\n",
    "from astropy.io import fits\n",
    "from astropy.table import Table\n",
    "import matplotlib.pyplot as plt\n",
    "import numpy as np\n",
    "import warnings\n",
    "import scipy as scipy\n",
    "from scipy import optimize\n",
    "from scipy.optimize import differential_evolution\n",
    "from tqdm import tqdm\n",
    "from matplotlib.pyplot import cm"
   ]
  },
  {
   "cell_type": "code",
   "execution_count": 80,
   "id": "758bc3ba",
   "metadata": {},
   "outputs": [],
   "source": [
    "hdulist = fits.open('../data/composite_Io_eclipsed.fits')\n",
    "evt_data = Table(hdulist[1].data)\n",
    "image_data = hdulist[1].data\n",
    "df = pd.read_csv('../data/Io_Master_Line_List (1).csv') #spaces in csv file will make df object type and not float64\n",
    "df_wavelength = df['Wavelength']\n",
    "df_species = df['Species']"
   ]
  },
  {
   "cell_type": "code",
   "execution_count": 81,
   "id": "c62b559e",
   "metadata": {},
   "outputs": [],
   "source": [
    "def gaussian(x, mu, sig, A):\n",
    "    return A*np.exp(-(x-mu)**2/(2*sig**2))"
   ]
  },
  {
   "cell_type": "code",
   "execution_count": 82,
   "id": "7ccbded6",
   "metadata": {},
   "outputs": [],
   "source": [
    "def double_gaussian(x, mu, sig, A, mu2, sig2, A2):\n",
    "    return gaussian(x, mu, sig, A)+gaussian(x, mu2, sig2, A2)"
   ]
  },
  {
   "cell_type": "code",
   "execution_count": 83,
   "id": "729ffb8c",
   "metadata": {},
   "outputs": [],
   "source": [
    "array = pd.read_csv('../data/test_array.csv') #spaces in csv file will make df object type and not float64"
   ]
  },
  {
   "cell_type": "code",
   "execution_count": 84,
   "id": "e8b3b8a6",
   "metadata": {},
   "outputs": [],
   "source": [
    "guess = array.to_numpy()\n",
    "wl = evt_data['WAVELENGTH'].T\n",
    "flux = evt_data['FLUX'].T\n",
    "wl = wl.data\n",
    "flux = flux.data\n",
    "wl = wl.flatten()\n",
    "flux = flux.flatten()"
   ]
  },
  {
   "cell_type": "markdown",
   "id": "44bb1200",
   "metadata": {},
   "source": [
    "Let's use the method of least_squares() with bounds instead of least_sq()."
   ]
  },
  {
   "cell_type": "code",
   "execution_count": 85,
   "id": "f0b010b4",
   "metadata": {},
   "outputs": [
    {
     "name": "stdout",
     "output_type": "stream",
     "text": [
      "Optimization terminated successfully.\n",
      "         Current function value: 0.000000\n",
      "         Iterations: 73\n",
      "         Function evaluations: 131\n"
     ]
    }
   ],
   "source": [
    "import scipy.optimize as sop\n",
    "import numpy as np\n",
    "def ftest(x):\n",
    "    x,y,z = x\n",
    "    data = np.array([3.65,2.41,1.59])# arbitrary & just for testing\n",
    "    model = np.array([x**2,y**2,z**2])# arbitrary & just for testing\n",
    "    residuals = data - model \n",
    "    return residuals\n",
    "def ftest2(x):\n",
    "    return sum(ftest(x)**2)# to ask fmin to minimize the chi2 but it can be anything\n",
    "p0 = np.array([1,2,3])# arbitrary & just for testing\n",
    "opt = sop.fmin(ftest2, p0)"
   ]
  },
  {
   "cell_type": "code",
   "execution_count": 86,
   "id": "080e5ea0",
   "metadata": {},
   "outputs": [],
   "source": [
    "C = np.delete(guess, 1, 1)"
   ]
  },
  {
   "cell_type": "code",
   "execution_count": 87,
   "id": "aebc9765",
   "metadata": {},
   "outputs": [],
   "source": [
    "test = C.astype('float64')\n",
    "test = np.delete(guess, 1, 1)\n",
    "test = test.astype(dtype=np.float64)"
   ]
  },
  {
   "cell_type": "code",
   "execution_count": 115,
   "id": "6f946c94",
   "metadata": {},
   "outputs": [],
   "source": [
    "errfunc1 = lambda p, x, y: (gaussian(x, *p) - y)**2\n",
    "errfunc2 = lambda p, x, y: (double_gaussian(x, *p) - y)**2"
   ]
  },
  {
   "cell_type": "code",
   "execution_count": 305,
   "id": "8dbed96d",
   "metadata": {},
   "outputs": [
    {
     "data": {
      "text/plain": [
       "array([1.436968e+03, 2.300000e-01, 2.000000e-03])"
      ]
     },
     "execution_count": 305,
     "metadata": {},
     "output_type": "execute_result"
    }
   ],
   "source": [
    "x = 90 #26, 27, are the biggest problem file, show 15 to see overlap in fit and data\n",
    "# 13,14,15, 47 look like they are shifted to the right\n",
    "# fix 22, 29, 32, 33, 37, 38, 43, 44, 46 amp guess\n",
    "# check 39 with double gauss\n",
    "# where is 40 supposed to be\n",
    "# 49, 50, 51 is on part with no data\n",
    "# 87 looks like another double gaussian\n",
    "guess1 = test[x]\n",
    "guess2 = np.hstack((guess1, test[x+1]))\n",
    "#guess1 = [1.425219e+03, 1.600000e-01, 0.04] #manually input guess where sigma is smaller\n",
    "\n",
    "opt = optimize.least_squares(errfunc1, guess1, args=(wl, flux/10**-13), bounds=([guess1[0]-0.5, 0, 0],\n",
    "                                                                        [guess1[0]+0.5, np.inf, np.inf]))\n",
    "nob = optimize.least_squares(errfunc1, guess1, args=(wl, flux/10**-13))\n",
    "opt2 = optimize.least_squares(errfunc2, guess2, args=(wl, flux/10**-13), bounds=([guess2[0]-0.5, 0, 0,\n",
    "                                                                         guess2[3]-0.5, 0, 0], [guess2[0]+0.5,\n",
    "                                                                         np.inf, np.inf, guess2[3]+0.5, np.inf, np.inf]))\n",
    "guess1"
   ]
  },
  {
   "cell_type": "code",
   "execution_count": 306,
   "id": "77daac9f",
   "metadata": {},
   "outputs": [
    {
     "data": {
      "text/plain": [
       "<matplotlib.legend.Legend at 0x211216c01c8>"
      ]
     },
     "execution_count": 306,
     "metadata": {},
     "output_type": "execute_result"
    },
    {
     "data": {
      "image/png": "[encoded data removed]",
      "text/plain": [
       "<Figure size 1152x360 with 1 Axes>"
      ]
     },
     "metadata": {
      "needs_background": "light"
     },
     "output_type": "display_data"
    }
   ],
   "source": [
    "plt.figure(figsize=(16, 5))\n",
    "plt.plot(wl, flux/10**-13,'g.', label='measurement')\n",
    "plt.plot(wl, gaussian(wl, *nob['x']),\n",
    "    lw=2, c='red', ls='--', label='unbounded fit')\n",
    "plt.plot(wl, gaussian(wl, *opt['x']),\n",
    "    lw=2, c='y', label='bounded fit')\n",
    "plt.plot(wl, double_gaussian(wl, *opt2['x']),\n",
    "    lw=1, c='pink', label='double Gaussian')\n",
    "plt.plot(wl, double_gaussian(wl, *guess2),\n",
    "    lw=1, c='purple', ls='--', label='guess 2')\n",
    "plt.plot(wl, gaussian(wl, *guess1),\n",
    "    lw=1, c='b', ls='--', label='guess 1')\n",
    "plt.axvline(guess1[0], color = 'black', linestyle = 'dotted')\n",
    "plt.title('COS Io Spectrum: {}'.format(guess1[0]))\n",
    "plt.ylim(-0.01,0.1)\n",
    "plt.xlim(guess1[0]-3,guess1[0]+3)\n",
    "plt.legend(loc='best')"
   ]
  },
  {
   "cell_type": "markdown",
   "id": "c9afdf56",
   "metadata": {},
   "source": [
    "Using x=86 when the wavelength is 1425.03, we can find the amplitude, mu, and sigma."
   ]
  },
  {
   "cell_type": "code",
   "execution_count": 53,
   "id": "4a7d69dc",
   "metadata": {},
   "outputs": [],
   "source": [
    "ans = opt['x']\n",
    "mu = ans[0]\n",
    "sig = ans[1]\n",
    "amp = ans[2]"
   ]
  },
  {
   "cell_type": "code",
   "execution_count": 54,
   "id": "86d3daf2",
   "metadata": {},
   "outputs": [
    {
     "data": {
      "text/plain": [
       "(1425.0722358316355, 1.8060433076322808, 0.029457292912555576)"
      ]
     },
     "execution_count": 54,
     "metadata": {},
     "output_type": "execute_result"
    }
   ],
   "source": [
    "mu,sig,amp"
   ]
  },
  {
   "cell_type": "code",
   "execution_count": 37,
   "id": "96fedca0",
   "metadata": {},
   "outputs": [
    {
     "data": {
      "text/plain": [
       "0.045517316220213516"
      ]
     },
     "execution_count": 37,
     "metadata": {},
     "output_type": "execute_result"
    }
   ],
   "source": [
    "brightness = ((2*np.pi)**.5)*(amp*sig)\n",
    "brightness"
   ]
  },
  {
   "cell_type": "code",
   "execution_count": 38,
   "id": "92f36950",
   "metadata": {},
   "outputs": [],
   "source": [
    "new_amp = amp*1e-13\n",
    "new_b = ((2*np.pi)**.5)*(new_amp*sig)"
   ]
  },
  {
   "cell_type": "code",
   "execution_count": 39,
   "id": "d1ef47f2",
   "metadata": {},
   "outputs": [
    {
     "data": {
      "text/plain": [
       "4.551731622021352e-15"
      ]
     },
     "execution_count": 39,
     "metadata": {},
     "output_type": "execute_result"
    }
   ],
   "source": [
    "new_b"
   ]
  },
  {
   "cell_type": "code",
   "execution_count": null,
   "id": "4f2f9b82",
   "metadata": {},
   "outputs": [],
   "source": []
  }
 ],
 "metadata": {
  "kernelspec": {
   "display_name": "Python 3",
   "language": "python",
   "name": "python3"
  },
  "language_info": {
   "codemirror_mode": {
    "name": "ipython",
    "version": 3
   },
   "file_extension": ".py",
   "mimetype": "text/x-python",
   "name": "python",
   "nbconvert_exporter": "python",
   "pygments_lexer": "ipython3",
   "version": "3.7.10"
  }
 },
 "nbformat": 4,
 "nbformat_minor": 5
}
