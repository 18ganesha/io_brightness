{
 "cells": [
  {
   "cell_type": "code",
   "execution_count": 66,
   "id": "5633c60c",
   "metadata": {},
   "outputs": [],
   "source": [
    "import numpy as np\n",
    "import pandas as pd\n",
    "from astropy.io import fits\n",
    "from astropy.table import Table\n",
    "import matplotlib.pyplot as plt\n",
    "import scipy as scipy\n",
    "from scipy import optimize\n",
    "from matplotlib.pyplot import cm"
   ]
  },
  {
   "cell_type": "code",
   "execution_count": 67,
   "id": "cf301600",
   "metadata": {},
   "outputs": [],
   "source": [
    "#np.loadtxt('../data/NIST/S I.txt', delimiter=';',dtype=object)\n",
    "data = pd.read_csv('../data/NIST/S I.txt', delimiter = \",\")\n",
    "hdulist = fits.open('../data/composite_Io_eclipsed.fits')\n",
    "evt_data = Table(hdulist[1].data)\n",
    "image_data = hdulist[1].data\n",
    "df = pd.read_csv('../data/Io_Master_Line_List (1).csv') #spaces in csv file will make df object type and not float64\n",
    "line = \"S I\"\n",
    "target_mask = df.Species.str.endswith(line) #probably a better function but idk it right now\n",
    "df = df[target_mask]\n",
    "df_wavelength = df['Wavelength']\n",
    "df_species = df['Species']"
   ]
  },
  {
   "cell_type": "code",
   "execution_count": 68,
   "id": "7f56fc86",
   "metadata": {},
   "outputs": [],
   "source": [
    "def gaussian(x, mu, sig, A):\n",
    "    return A*np.exp(-(x-mu)**2/(2*sig**2))"
   ]
  },
  {
   "cell_type": "code",
   "execution_count": 69,
   "id": "91c1dc1b",
   "metadata": {},
   "outputs": [],
   "source": [
    "array = pd.read_csv('../data/least_squares_array.csv') #spaces in csv file will make df object type and not float64\n",
    "array = array.loc[array['Species'].str.endswith('S I')]\n",
    "guess = array.to_numpy()\n",
    "wl = evt_data['WAVELENGTH'].T\n",
    "flux = evt_data['FLUX'].T\n",
    "wl = wl.data\n",
    "flux = flux.data\n",
    "wl = wl.flatten()\n",
    "flux = flux.flatten()\n",
    "C = np.delete(guess, 1, 1)\n",
    "C = C.tolist()"
   ]
  },
  {
   "cell_type": "code",
   "execution_count": 70,
   "id": "3c59c73f",
   "metadata": {},
   "outputs": [
    {
     "data": {
      "text/plain": [
       "[1425.03, 0.23, 2e-14]"
      ]
     },
     "execution_count": 70,
     "metadata": {},
     "output_type": "execute_result"
    }
   ],
   "source": [
    "x = 46\n",
    "errfunc1 = lambda p, x, y: (gaussian(x, *p) - y)**2\n",
    "guess1 = C[x]\n",
    "guess1"
   ]
  },
  {
   "cell_type": "code",
   "execution_count": 71,
   "id": "9cf270dd",
   "metadata": {},
   "outputs": [
    {
     "data": {
      "text/plain": [
       "array([1.42505141e+03, 1.92907720e-01, 8.74309323e-15])"
      ]
     },
     "execution_count": 71,
     "metadata": {},
     "output_type": "execute_result"
    }
   ],
   "source": [
    "optim1, success = optimize.leastsq(errfunc1, guess1, args=(wl, flux))\n",
    "optim1"
   ]
  },
  {
   "cell_type": "code",
   "execution_count": 72,
   "id": "c6a53917",
   "metadata": {},
   "outputs": [
    {
     "data": {
      "text/plain": [
       "<matplotlib.legend.Legend at 0x1c6183ff5c8>"
      ]
     },
     "execution_count": 72,
     "metadata": {},
     "output_type": "execute_result"
    },
    {
     "data": {
      "image/png": "[encoded data removed]",
      "text/plain": [
       "<Figure size 1152x360 with 1 Axes>"
      ]
     },
     "metadata": {
      "needs_background": "light"
     },
     "output_type": "display_data"
    }
   ],
   "source": [
    "plt.figure(figsize=(16, 5))\n",
    "plt.plot(wl, flux,'g.', label='measurement')\n",
    "plt.plot(wl, gaussian(wl, *optim1),\n",
    "    lw=2, c='y', label='fit of 1 Gaussian')\n",
    "plt.ylim(-0.01*10**-13,0.25*10**-13)\n",
    "plt.xlim(guess1[0]-3,guess1[0]+3)\n",
    "plt.legend(loc='best')"
   ]
  },
  {
   "cell_type": "code",
   "execution_count": 76,
   "id": "4ba1594c",
   "metadata": {},
   "outputs": [],
   "source": [
    "mu = optim1[0]\n",
    "sig = optim1[1]\n",
    "amp = optim1[2]"
   ]
  },
  {
   "cell_type": "code",
   "execution_count": 77,
   "id": "ab7ae997",
   "metadata": {},
   "outputs": [
    {
     "data": {
      "text/plain": [
       "8.743093232932929e-15"
      ]
     },
     "execution_count": 77,
     "metadata": {},
     "output_type": "execute_result"
    }
   ],
   "source": [
    "amp"
   ]
  },
  {
   "cell_type": "code",
   "execution_count": 78,
   "id": "6ca0f99f",
   "metadata": {},
   "outputs": [],
   "source": [
    "brightness = ((2*np.pi)**.5)*(amp*sig)"
   ]
  },
  {
   "cell_type": "code",
   "execution_count": 79,
   "id": "a97a8823",
   "metadata": {},
   "outputs": [
    {
     "data": {
      "text/plain": [
       "4.227704772401919e-15"
      ]
     },
     "execution_count": 79,
     "metadata": {},
     "output_type": "execute_result"
    }
   ],
   "source": [
    "brightness"
   ]
  },
  {
   "cell_type": "code",
   "execution_count": 102,
   "id": "5ceba84b",
   "metadata": {},
   "outputs": [
    {
     "data": {
      "text/plain": [
       "2650000000.0"
      ]
     },
     "execution_count": 102,
     "metadata": {},
     "output_type": "execute_result"
    }
   ],
   "source": [
    "osc_strength = data['gA(s^-1)'][130]\n",
    "osc_strength"
   ]
  },
  {
   "cell_type": "code",
   "execution_count": 104,
   "id": "69fde102",
   "metadata": {},
   "outputs": [
    {
     "data": {
      "text/plain": [
       "1.5953602914724224e-24"
      ]
     },
     "execution_count": 104,
     "metadata": {},
     "output_type": "execute_result"
    }
   ],
   "source": [
    "ratio = brightness/osc_strength\n",
    "ratio"
   ]
  },
  {
   "cell_type": "code",
   "execution_count": null,
   "id": "ce997f68",
   "metadata": {},
   "outputs": [],
   "source": []
  }
 ],
 "metadata": {
  "kernelspec": {
   "display_name": "Python 3",
   "language": "python",
   "name": "python3"
  },
  "language_info": {
   "codemirror_mode": {
    "name": "ipython",
    "version": 3
   },
   "file_extension": ".py",
   "mimetype": "text/x-python",
   "name": "python",
   "nbconvert_exporter": "python",
   "pygments_lexer": "ipython3",
   "version": "3.7.10"
  }
 },
 "nbformat": 4,
 "nbformat_minor": 5
}
