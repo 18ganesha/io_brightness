{
 "cells": [
  {
   "cell_type": "markdown",
   "id": "fa006e61",
   "metadata": {},
   "source": [
    "# MCMC Loops for S I Lines\n",
    "Now that we have created a manual process to input each line and recieve a brightness, I have created a loop that will go through the wavelength list for all S I lines and return the brightness mean, standard deviation, the gaussian width, uncertainty, the line center, and the line center uncertainty, and the given line."
   ]
  },
  {
   "cell_type": "code",
   "execution_count": 9,
   "id": "525eca59",
   "metadata": {},
   "outputs": [],
   "source": [
    "import matplotlib.pyplot as plt\n",
    "import numpy as np\n",
    "import pandas as pd\n",
    "import os\n",
    "import glob\n",
    "from astropy.utils.data import get_pkg_data_filename\n",
    "from astropy.io import fits\n",
    "from astropy.table import Table\n",
    "import emcee\n",
    "from IPython.display import display, Math\n",
    "from tqdm.auto import tqdm\n",
    "#%matplotlib inline\n",
    "%config InlineBackend.figure_format='retina'"
   ]
  },
  {
   "cell_type": "code",
   "execution_count": 10,
   "id": "892eb4b8",
   "metadata": {},
   "outputs": [],
   "source": [
    "line = 1250.8140\n",
    "hdulist = fits.open('../data/composite_Io_eclipsed.fits')\n",
    "evt_data = Table(hdulist[1].data)\n",
    "image_data = hdulist[1].data\n",
    "df = pd.read_csv('../data/Io_Master_Line_List (1).csv') #spaces in csv file will make df object type and not float64\n",
    "line = \"S I\"\n",
    "target_mask = df.Species.str.endswith(line) #probably a better function but idk it right now\n",
    "df = df[target_mask]\n",
    "df_wavelength = df['Wavelength']\n",
    "df_species = df['Species']"
   ]
  },
  {
   "cell_type": "code",
   "execution_count": 11,
   "id": "45c6d2fc",
   "metadata": {},
   "outputs": [],
   "source": [
    "def log_likelihood(theta):\n",
    "    A, mu, logw = theta\n",
    "    model = generative_model(A, mu, logw, int_wl = line)\n",
    "    residual = flux - model\n",
    "    chi_squared = np.sum(residual** 2 / unc**2)\n",
    "    return -0.5 * chi_squared"
   ]
  },
  {
   "cell_type": "code",
   "execution_count": 13,
   "id": "5396f2d2",
   "metadata": {},
   "outputs": [],
   "source": [
    "n_walkers = 32\n",
    "n_params = 3\n",
    "n_steps = 5000\n",
    "labels = [\"A\", \"mu\", \"w\"]"
   ]
  },
  {
   "cell_type": "code",
   "execution_count": 14,
   "id": "0cb0de45",
   "metadata": {},
   "outputs": [],
   "source": [
    "df_results = pd.DataFrame()\n",
    "problem_files = {}"
   ]
  },
  {
   "cell_type": "code",
   "execution_count": 15,
   "id": "95b2dd01",
   "metadata": {},
   "outputs": [],
   "source": [
    "wavelength_list = df_wavelength.values.tolist()"
   ]
  },
  {
   "cell_type": "code",
   "execution_count": 16,
   "id": "66aa6115",
   "metadata": {},
   "outputs": [
    {
     "data": {
      "application/vnd.jupyter.widget-view+json": {
       "model_id": "b6a3039aa3014f8e9470b6123e7e7090",
       "version_major": 2,
       "version_minor": 0
      },
      "text/plain": [
       "  0%|          | 0/5 [00:00<?, ?it/s]"
      ]
     },
     "metadata": {},
     "output_type": "display_data"
    }
   ],
   "source": [
    "for index in tqdm(range(0, 5)):\n",
    "    #len(wavelength_list) for whole list\n",
    "    \n",
    "    line = wavelength_list[index]\n",
    "    \n",
    "    left_bound = 0.999*line\n",
    "    right_bound = 1.001*line\n",
    "        \n",
    "    sub_region = (evt_data['WAVELENGTH'] > left_bound) & (evt_data['WAVELENGTH'] < right_bound) #only take values within this area\n",
    "    wl = evt_data['WAVELENGTH'][sub_region]\n",
    "    flux = evt_data['FLUX'][sub_region]\n",
    "    unc = 0.05*flux #placeholder uncertainty\n",
    "    \n",
    "    def generative_model(A, mu, logw, int_wl = line):\n",
    "        \"\"\"Generate the model given parameters\"\"\"\n",
    "        w = np.exp(logw)\n",
    "        gaussian = A * np.exp(-0.5*(wl-mu)**2/w**2)\n",
    "        return gaussian\n",
    "    \n",
    "    A_guess, mu_guess, logw_guess = 0.04*10**-13, line, np.log(0.2)\n",
    "    flux_guess = generative_model(A_guess, mu_guess, logw_guess)\n",
    "    \n",
    "    theta_guess = np.array([A_guess, mu_guess, logw_guess])\n",
    "    log_likelihood(theta_guess) #more magnitude the log_likelihood, the worse the fit\n",
    "    \n",
    "    pos = theta_guess + 1e-4 * np.random.randn(n_walkers, n_params) #intial guess position\n",
    "\n",
    "    #with Pool() as pool:\n",
    "    sampler = emcee.EnsembleSampler(n_walkers, n_params, log_likelihood, threads=12)\n",
    "    sampler.run_mcmc(pos, n_steps, progress=False);\n",
    "\n",
    "    flat_samples = sampler.get_chain(discard=1000, thin=15, flat=True)\n",
    "\n",
    "    A_draws = flat_samples[:,0]\n",
    "    mu_draws = flat_samples[:,1]\n",
    "    w_draws = np.exp(flat_samples[:, 2])\n",
    "    \n",
    "    brightness = -((2*np.pi)**.5)*(A_draws*w_draws)\n",
    "    brightness\n",
    "    \n",
    "    brightness_mean = np.mean(brightness)\n",
    "    brightness_std = np.std(brightness)\n",
    "    \n",
    "    gauss_width = np.mean(w_draws)\n",
    "    gauss_width_unc = np.std(w_draws)\n",
    "    obs_line_center = np.mean(mu_draws)\n",
    "    obs_line_center_unc = np.std(mu_draws)\n",
    "    \n",
    "    temp = {'brightness':brightness_mean, 'brightness_unc':brightness_std, 'int_wv':line, 'gaussian_width':gauss_width, 'gaussian_width_unc':gauss_width_unc,\n",
    "                'obs_line_center':obs_line_center, 'obs_line_center_unc':obs_line_center_unc}\n",
    "    \n",
    "    df_results = df_results.append(temp, ignore_index=True)\n",
    "    if (index % 10) == 0:\n",
    "            #print(index, fn[-49:])\n",
    "            df_results.to_csv('../data/io_preliminary_results_2.csv',index=False)"
   ]
  },
  {
   "cell_type": "markdown",
   "id": "1c7c9e4f",
   "metadata": {},
   "source": [
    "Now that we have run the loop, let us save the file for later use."
   ]
  },
  {
   "cell_type": "code",
   "execution_count": 18,
   "id": "02593c64",
   "metadata": {},
   "outputs": [
    {
     "data": {
      "text/html": [
       "<div>\n",
       "<style scoped>\n",
       "    .dataframe tbody tr th:only-of-type {\n",
       "        vertical-align: middle;\n",
       "    }\n",
       "\n",
       "    .dataframe tbody tr th {\n",
       "        vertical-align: top;\n",
       "    }\n",
       "\n",
       "    .dataframe thead th {\n",
       "        text-align: right;\n",
       "    }\n",
       "</style>\n",
       "<table border=\"1\" class=\"dataframe\">\n",
       "  <thead>\n",
       "    <tr style=\"text-align: right;\">\n",
       "      <th></th>\n",
       "      <th>brightness</th>\n",
       "      <th>brightness_unc</th>\n",
       "      <th>gaussian_width</th>\n",
       "      <th>gaussian_width_unc</th>\n",
       "      <th>int_wv</th>\n",
       "      <th>obs_line_center</th>\n",
       "      <th>obs_line_center_unc</th>\n",
       "    </tr>\n",
       "  </thead>\n",
       "  <tbody>\n",
       "    <tr>\n",
       "      <th>0</th>\n",
       "      <td>9.567195e-19</td>\n",
       "      <td>5.050943e-20</td>\n",
       "      <td>0.182068</td>\n",
       "      <td>0.004037</td>\n",
       "      <td>1208.850</td>\n",
       "      <td>1208.986858</td>\n",
       "      <td>0.009198</td>\n",
       "    </tr>\n",
       "    <tr>\n",
       "      <th>1</th>\n",
       "      <td>7.399353e-18</td>\n",
       "      <td>2.736936e-18</td>\n",
       "      <td>0.083925</td>\n",
       "      <td>0.030241</td>\n",
       "      <td>1211.212</td>\n",
       "      <td>1210.706342</td>\n",
       "      <td>0.259752</td>\n",
       "    </tr>\n",
       "    <tr>\n",
       "      <th>2</th>\n",
       "      <td>-3.430411e-18</td>\n",
       "      <td>9.285372e-20</td>\n",
       "      <td>0.053892</td>\n",
       "      <td>0.001337</td>\n",
       "      <td>1211.380</td>\n",
       "      <td>1211.368663</td>\n",
       "      <td>0.002410</td>\n",
       "    </tr>\n",
       "    <tr>\n",
       "      <th>3</th>\n",
       "      <td>-1.415385e-17</td>\n",
       "      <td>2.320230e-19</td>\n",
       "      <td>0.049160</td>\n",
       "      <td>0.000600</td>\n",
       "      <td>1212.795</td>\n",
       "      <td>1212.915104</td>\n",
       "      <td>0.000826</td>\n",
       "    </tr>\n",
       "    <tr>\n",
       "      <th>4</th>\n",
       "      <td>-9.399315e-18</td>\n",
       "      <td>1.625187e-19</td>\n",
       "      <td>0.035978</td>\n",
       "      <td>0.000423</td>\n",
       "      <td>1218.595</td>\n",
       "      <td>1218.616261</td>\n",
       "      <td>0.000504</td>\n",
       "    </tr>\n",
       "  </tbody>\n",
       "</table>\n",
       "</div>"
      ],
      "text/plain": [
       "     brightness  brightness_unc  gaussian_width  gaussian_width_unc    int_wv  \\\n",
       "0  9.567195e-19    5.050943e-20        0.182068            0.004037  1208.850   \n",
       "1  7.399353e-18    2.736936e-18        0.083925            0.030241  1211.212   \n",
       "2 -3.430411e-18    9.285372e-20        0.053892            0.001337  1211.380   \n",
       "3 -1.415385e-17    2.320230e-19        0.049160            0.000600  1212.795   \n",
       "4 -9.399315e-18    1.625187e-19        0.035978            0.000423  1218.595   \n",
       "\n",
       "   obs_line_center  obs_line_center_unc  \n",
       "0      1208.986858             0.009198  \n",
       "1      1210.706342             0.259752  \n",
       "2      1211.368663             0.002410  \n",
       "3      1212.915104             0.000826  \n",
       "4      1218.616261             0.000504  "
      ]
     },
     "execution_count": 18,
     "metadata": {},
     "output_type": "execute_result"
    }
   ],
   "source": [
    "df_results"
   ]
  },
  {
   "cell_type": "code",
   "execution_count": 17,
   "id": "149130ad",
   "metadata": {},
   "outputs": [
    {
     "ename": "PermissionError",
     "evalue": "[Errno 13] Permission denied: '../data/io_preliminary_results_2.csv'",
     "output_type": "error",
     "traceback": [
      "\u001b[1;31m---------------------------------------------------------------------------\u001b[0m",
      "\u001b[1;31mPermissionError\u001b[0m                           Traceback (most recent call last)",
      "\u001b[1;32m<ipython-input-17-79bd13b117b5>\u001b[0m in \u001b[0;36m<module>\u001b[1;34m\u001b[0m\n\u001b[1;32m----> 1\u001b[1;33m \u001b[0mdf_results\u001b[0m\u001b[1;33m.\u001b[0m\u001b[0mto_csv\u001b[0m\u001b[1;33m(\u001b[0m\u001b[1;34m'../data/io_preliminary_results_2.csv'\u001b[0m\u001b[1;33m,\u001b[0m\u001b[0mindex\u001b[0m\u001b[1;33m=\u001b[0m\u001b[1;32mFalse\u001b[0m\u001b[1;33m)\u001b[0m\u001b[1;33m\u001b[0m\u001b[1;33m\u001b[0m\u001b[0m\n\u001b[0m",
      "\u001b[1;32m~\\.conda\\envs\\io_env\\lib\\site-packages\\pandas\\core\\generic.py\u001b[0m in \u001b[0;36mto_csv\u001b[1;34m(self, path_or_buf, sep, na_rep, float_format, columns, header, index, index_label, mode, encoding, compression, quoting, quotechar, line_terminator, chunksize, date_format, doublequote, escapechar, decimal, errors, storage_options)\u001b[0m\n\u001b[0;32m   3401\u001b[0m             \u001b[0mdoublequote\u001b[0m\u001b[1;33m=\u001b[0m\u001b[0mdoublequote\u001b[0m\u001b[1;33m,\u001b[0m\u001b[1;33m\u001b[0m\u001b[1;33m\u001b[0m\u001b[0m\n\u001b[0;32m   3402\u001b[0m             \u001b[0mescapechar\u001b[0m\u001b[1;33m=\u001b[0m\u001b[0mescapechar\u001b[0m\u001b[1;33m,\u001b[0m\u001b[1;33m\u001b[0m\u001b[1;33m\u001b[0m\u001b[0m\n\u001b[1;32m-> 3403\u001b[1;33m             \u001b[0mstorage_options\u001b[0m\u001b[1;33m=\u001b[0m\u001b[0mstorage_options\u001b[0m\u001b[1;33m,\u001b[0m\u001b[1;33m\u001b[0m\u001b[1;33m\u001b[0m\u001b[0m\n\u001b[0m\u001b[0;32m   3404\u001b[0m         )\n\u001b[0;32m   3405\u001b[0m \u001b[1;33m\u001b[0m\u001b[0m\n",
      "\u001b[1;32m~\\.conda\\envs\\io_env\\lib\\site-packages\\pandas\\io\\formats\\format.py\u001b[0m in \u001b[0;36mto_csv\u001b[1;34m(self, path_or_buf, encoding, sep, columns, index_label, mode, compression, quoting, quotechar, line_terminator, chunksize, date_format, doublequote, escapechar, errors, storage_options)\u001b[0m\n\u001b[0;32m   1081\u001b[0m             \u001b[0mformatter\u001b[0m\u001b[1;33m=\u001b[0m\u001b[0mself\u001b[0m\u001b[1;33m.\u001b[0m\u001b[0mfmt\u001b[0m\u001b[1;33m,\u001b[0m\u001b[1;33m\u001b[0m\u001b[1;33m\u001b[0m\u001b[0m\n\u001b[0;32m   1082\u001b[0m         )\n\u001b[1;32m-> 1083\u001b[1;33m         \u001b[0mcsv_formatter\u001b[0m\u001b[1;33m.\u001b[0m\u001b[0msave\u001b[0m\u001b[1;33m(\u001b[0m\u001b[1;33m)\u001b[0m\u001b[1;33m\u001b[0m\u001b[1;33m\u001b[0m\u001b[0m\n\u001b[0m\u001b[0;32m   1084\u001b[0m \u001b[1;33m\u001b[0m\u001b[0m\n\u001b[0;32m   1085\u001b[0m         \u001b[1;32mif\u001b[0m \u001b[0mcreated_buffer\u001b[0m\u001b[1;33m:\u001b[0m\u001b[1;33m\u001b[0m\u001b[1;33m\u001b[0m\u001b[0m\n",
      "\u001b[1;32m~\\.conda\\envs\\io_env\\lib\\site-packages\\pandas\\io\\formats\\csvs.py\u001b[0m in \u001b[0;36msave\u001b[1;34m(self)\u001b[0m\n\u001b[0;32m    232\u001b[0m             \u001b[0merrors\u001b[0m\u001b[1;33m=\u001b[0m\u001b[0mself\u001b[0m\u001b[1;33m.\u001b[0m\u001b[0merrors\u001b[0m\u001b[1;33m,\u001b[0m\u001b[1;33m\u001b[0m\u001b[1;33m\u001b[0m\u001b[0m\n\u001b[0;32m    233\u001b[0m             \u001b[0mcompression\u001b[0m\u001b[1;33m=\u001b[0m\u001b[0mself\u001b[0m\u001b[1;33m.\u001b[0m\u001b[0mcompression\u001b[0m\u001b[1;33m,\u001b[0m\u001b[1;33m\u001b[0m\u001b[1;33m\u001b[0m\u001b[0m\n\u001b[1;32m--> 234\u001b[1;33m             \u001b[0mstorage_options\u001b[0m\u001b[1;33m=\u001b[0m\u001b[0mself\u001b[0m\u001b[1;33m.\u001b[0m\u001b[0mstorage_options\u001b[0m\u001b[1;33m,\u001b[0m\u001b[1;33m\u001b[0m\u001b[1;33m\u001b[0m\u001b[0m\n\u001b[0m\u001b[0;32m    235\u001b[0m         ) as handles:\n\u001b[0;32m    236\u001b[0m \u001b[1;33m\u001b[0m\u001b[0m\n",
      "\u001b[1;32m~\\.conda\\envs\\io_env\\lib\\site-packages\\pandas\\io\\common.py\u001b[0m in \u001b[0;36mget_handle\u001b[1;34m(path_or_buf, mode, encoding, compression, memory_map, is_text, errors, storage_options)\u001b[0m\n\u001b[0;32m    645\u001b[0m                 \u001b[0mencoding\u001b[0m\u001b[1;33m=\u001b[0m\u001b[0mioargs\u001b[0m\u001b[1;33m.\u001b[0m\u001b[0mencoding\u001b[0m\u001b[1;33m,\u001b[0m\u001b[1;33m\u001b[0m\u001b[1;33m\u001b[0m\u001b[0m\n\u001b[0;32m    646\u001b[0m                 \u001b[0merrors\u001b[0m\u001b[1;33m=\u001b[0m\u001b[0merrors\u001b[0m\u001b[1;33m,\u001b[0m\u001b[1;33m\u001b[0m\u001b[1;33m\u001b[0m\u001b[0m\n\u001b[1;32m--> 647\u001b[1;33m                 \u001b[0mnewline\u001b[0m\u001b[1;33m=\u001b[0m\u001b[1;34m\"\"\u001b[0m\u001b[1;33m,\u001b[0m\u001b[1;33m\u001b[0m\u001b[1;33m\u001b[0m\u001b[0m\n\u001b[0m\u001b[0;32m    648\u001b[0m             )\n\u001b[0;32m    649\u001b[0m         \u001b[1;32melse\u001b[0m\u001b[1;33m:\u001b[0m\u001b[1;33m\u001b[0m\u001b[1;33m\u001b[0m\u001b[0m\n",
      "\u001b[1;31mPermissionError\u001b[0m: [Errno 13] Permission denied: '../data/io_preliminary_results_2.csv'"
     ]
    }
   ],
   "source": [
    "df_results.to_csv('../data/io_preliminary_results_2.csv',index=False)"
   ]
  },
  {
   "cell_type": "code",
   "execution_count": null,
   "id": "529f91d8",
   "metadata": {},
   "outputs": [],
   "source": []
  }
 ],
 "metadata": {
  "kernelspec": {
   "display_name": "Python 3",
   "language": "python",
   "name": "python3"
  },
  "language_info": {
   "codemirror_mode": {
    "name": "ipython",
    "version": 3
   },
   "file_extension": ".py",
   "mimetype": "text/x-python",
   "name": "python",
   "nbconvert_exporter": "python",
   "pygments_lexer": "ipython3",
   "version": "3.7.10"
  }
 },
 "nbformat": 4,
 "nbformat_minor": 5
}
