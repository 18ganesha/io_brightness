{
 "cells": [
  {
   "cell_type": "markdown",
   "id": "94c3fe7b",
   "metadata": {},
   "source": [
    "# MCMC Loops for S I Lines\n",
    "Now that we have created a manual process to input each line and recieve a brightness, I have created a loop that will go through the wavelength list for all S I lines and return the brightness mean, standard deviation, the gaussian width, uncertainty, the line center, and the line center uncertainty, and the given line."
   ]
  },
  {
   "cell_type": "code",
   "execution_count": 1,
   "id": "370de6dd",
   "metadata": {},
   "outputs": [],
   "source": [
    "import matplotlib.pyplot as plt\n",
    "import numpy as np\n",
    "import pandas as pd\n",
    "import os\n",
    "import glob\n",
    "from astropy.utils.data import get_pkg_data_filename\n",
    "from astropy.io import fits\n",
    "from astropy.table import Table\n",
    "import emcee\n",
    "from IPython.display import display, Math\n",
    "from tqdm.auto import tqdm\n",
    "#%matplotlib inline\n",
    "%config InlineBackend.figure_format='retina'"
   ]
  },
  {
   "cell_type": "code",
   "execution_count": 2,
   "id": "7263edf3",
   "metadata": {},
   "outputs": [],
   "source": [
    "line = 1250.8140\n",
    "hdulist = fits.open('../data/composite_Io_eclipsed.fits')\n",
    "evt_data = Table(hdulist[1].data)\n",
    "image_data = hdulist[1].data\n",
    "df = pd.read_csv('../data/Io_Master_Line_List (1).csv') #spaces in csv file will make df object type and not float64\n",
    "line = \"S I\"\n",
    "target_mask = df.Species.str.endswith(line) #probably a better function but idk it right now\n",
    "df = df[target_mask]\n",
    "df_wavelength = df['Wavelength']\n",
    "df_species = df['Species']"
   ]
  },
  {
   "cell_type": "code",
   "execution_count": 3,
   "id": "4520b311",
   "metadata": {},
   "outputs": [],
   "source": [
    "def log_likelihood(theta):\n",
    "    m, b, A, mu, logw = theta\n",
    "    model = generative_model(m, b, A, mu, logw, int_wl = line)\n",
    "    residual = flux - model\n",
    "    chi_squared = np.sum(residual** 2 / unc**2)\n",
    "    return -0.5 * chi_squared"
   ]
  },
  {
   "cell_type": "code",
   "execution_count": 4,
   "id": "5df6d87a",
   "metadata": {},
   "outputs": [],
   "source": [
    "order = 4\n",
    "n_walkers = 32\n",
    "n_params = 5\n",
    "n_steps = 5000\n",
    "labels = [\"m\", \"b\", \"A\", \"mu\", \"w\"]"
   ]
  },
  {
   "cell_type": "code",
   "execution_count": 5,
   "id": "68a1c7af",
   "metadata": {},
   "outputs": [],
   "source": [
    "df_results = pd.DataFrame()\n",
    "problem_files = {}"
   ]
  },
  {
   "cell_type": "code",
   "execution_count": 6,
   "id": "43bed5f8",
   "metadata": {},
   "outputs": [],
   "source": [
    "wavelength_list = df_wavelength.values.tolist()"
   ]
  },
  {
   "cell_type": "code",
   "execution_count": 7,
   "id": "9d690da7",
   "metadata": {},
   "outputs": [
    {
     "data": {
      "application/vnd.jupyter.widget-view+json": {
       "model_id": "c060653e842047c68942669be36391ee",
       "version_major": 2,
       "version_minor": 0
      },
      "text/plain": [
       "  0%|          | 0/52 [00:00<?, ?it/s]"
      ]
     },
     "metadata": {},
     "output_type": "display_data"
    },
    {
     "name": "stderr",
     "output_type": "stream",
     "text": [
      "C:\\Users\\jojoa\\.conda\\envs\\io_env\\lib\\site-packages\\ipykernel_launcher.py:5: RuntimeWarning: divide by zero encountered in true_divide\n",
      "  \"\"\"\n",
      "C:\\Users\\jojoa\\.conda\\envs\\io_env\\lib\\site-packages\\emcee\\moves\\red_blue.py:99: RuntimeWarning: invalid value encountered in double_scalars\n",
      "  lnpdiff = f + nlp - state.log_prob[j]\n"
     ]
    }
   ],
   "source": [
    "for index in tqdm(range(0, len(wavelength_list))):\n",
    "    #len(wavelength_list) for whole list\n",
    "    \n",
    "    line = wavelength_list[index]\n",
    "    \n",
    "    left_bound = 0.999*line\n",
    "    right_bound = 1.001*line\n",
    "        \n",
    "    sub_region = (evt_data['WAVELENGTH'] > left_bound) & (evt_data['WAVELENGTH'] < right_bound) #only take values within this area\n",
    "    wl = evt_data['WAVELENGTH'][sub_region]\n",
    "    flux = evt_data['FLUX'][sub_region]\n",
    "    unc = 0.05*flux #placeholder uncertainty\n",
    "    \n",
    "    def generative_model(m, b, A, mu, logw, int_wl = line):\n",
    "        \"\"\"Generate the model given parameters\"\"\"\n",
    "        continuum = m * (wl - int_wl) + b\n",
    "        w = np.exp(logw)\n",
    "        gaussian = A * np.exp(-0.5*(wl-mu)**2/w**2)\n",
    "        return continuum + gaussian\n",
    "    \n",
    "    m_guess, b_guess, A_guess, mu_guess, logw_guess = 0, 0, 0.04*10**-13, line, np.log(0.2)\n",
    "    flux_guess = generative_model(m_guess, b_guess, A_guess, mu_guess, logw_guess)\n",
    "    \n",
    "    theta_guess = np.array([m_guess, b_guess, A_guess, mu_guess, logw_guess])\n",
    "    log_likelihood(theta_guess) #more magnitude the log_likelihood, the worse the fit\n",
    "    \n",
    "    pos = theta_guess + 1e-4 * np.random.randn(n_walkers, n_params) #intial guess position\n",
    "\n",
    "    #with Pool() as pool:\n",
    "    sampler = emcee.EnsembleSampler(n_walkers, n_params, log_likelihood, threads=12)\n",
    "    sampler.run_mcmc(pos, n_steps, progress=False);\n",
    "\n",
    "    flat_samples = sampler.get_chain(discard=1000, thin=15, flat=True)\n",
    "\n",
    "    A_draws = flat_samples[:,2]\n",
    "    b_draws = flat_samples[:,1]\n",
    "    m_draws = flat_samples[:,0]\n",
    "    mu_draws = flat_samples[:,3]\n",
    "    w_draws = np.exp(flat_samples[:, 4])\n",
    "    \n",
    "    brightness = -((2*np.pi)**.5)*(A_draws*w_draws)/(m_draws*(mu_draws-line)+b_draws)\n",
    "    brightness\n",
    "    \n",
    "    brightness_mean = np.mean(brightness)\n",
    "    brightness_std = np.std(brightness)\n",
    "    \n",
    "    gauss_width = np.mean(w_draws)\n",
    "    gauss_width_unc = np.std(w_draws)\n",
    "    obs_line_center = np.mean(mu_draws)\n",
    "    obs_line_center_unc = np.std(mu_draws)\n",
    "    \n",
    "    temp = {'brightness':brightness_mean, 'brightness_unc':brightness_std, 'int_wv':line, 'gaussian_width':gauss_width, 'gaussian_width_unc':gauss_width_unc,\n",
    "                'obs_line_center':obs_line_center, 'obs_line_center_unc':obs_line_center_unc}\n",
    "    \n",
    "    df_results = df_results.append(temp, ignore_index=True)\n",
    "    if (index % 10) == 0:\n",
    "            #print(index, fn[-49:])\n",
    "            df_results.to_csv('../data/io_preliminary_results_2.csv',index=False)"
   ]
  },
  {
   "cell_type": "markdown",
   "id": "5eb98a6c",
   "metadata": {},
   "source": [
    "Now that we have run the loop, let us save the file for later use."
   ]
  },
  {
   "cell_type": "code",
   "execution_count": 8,
   "id": "57354cf9",
   "metadata": {},
   "outputs": [],
   "source": [
    "df_results.to_csv('../data/io_preliminary_results_2.csv',index=False)"
   ]
  }
 ],
 "metadata": {
  "kernelspec": {
   "display_name": "Python 3",
   "language": "python",
   "name": "python3"
  },
  "language_info": {
   "codemirror_mode": {
    "name": "ipython",
    "version": 3
   },
   "file_extension": ".py",
   "mimetype": "text/x-python",
   "name": "python",
   "nbconvert_exporter": "python",
   "pygments_lexer": "ipython3",
   "version": "3.7.10"
  }
 },
 "nbformat": 4,
 "nbformat_minor": 5
}
