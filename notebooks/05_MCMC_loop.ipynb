{
 "cells": [
  {
   "cell_type": "markdown",
   "id": "06cadc9b",
   "metadata": {},
   "source": [
    "# MCMC Loops for S I Lines\n",
    "Now that we have created a manual process to input each line and recieve a brightness, I have created a loop that will go through the wavelength list for all S I lines and return the brightness mean, standard deviation, the gaussian width, uncertainty, the line center, and the line center uncertainty, and the given line."
   ]
  },
  {
   "cell_type": "code",
   "execution_count": 1,
   "id": "18ed3e52",
   "metadata": {},
   "outputs": [],
   "source": [
    "import matplotlib.pyplot as plt\n",
    "import numpy as np\n",
    "import pandas as pd\n",
    "import os\n",
    "import glob\n",
    "from astropy.utils.data import get_pkg_data_filename\n",
    "from astropy.io import fits\n",
    "from astropy.table import Table\n",
    "import emcee\n",
    "from IPython.display import display, Math\n",
    "from tqdm.auto import tqdm\n",
    "#%matplotlib inline\n",
    "%config InlineBackend.figure_format='retina'"
   ]
  },
  {
   "cell_type": "code",
   "execution_count": 2,
   "id": "77374732",
   "metadata": {},
   "outputs": [],
   "source": [
    "line = 1250.8140\n",
    "hdulist = fits.open('../data/composite_Io_eclipsed.fits')\n",
    "evt_data = Table(hdulist[1].data)\n",
    "image_data = hdulist[1].data\n",
    "df = pd.read_csv('../data/Io_Master_Line_List (1).csv') #spaces in csv file will make df object type and not float64\n",
    "line = \"S I\"\n",
    "target_mask = df.Species.str.endswith(line) #probably a better function but idk it right now\n",
    "df = df[target_mask]\n",
    "df_wavelength = df['Wavelength']\n",
    "df_species = df['Species']"
   ]
  },
  {
   "cell_type": "code",
   "execution_count": 3,
   "id": "762ea459",
   "metadata": {},
   "outputs": [],
   "source": [
    "def log_likelihood(theta):\n",
    "    A, mu, logw = theta\n",
    "    model = generative_model(A, mu, logw, int_wl = line)\n",
    "    residual = flux - model\n",
    "    chi_squared = np.sum(residual** 2 / unc**2)\n",
    "    return -0.5 * chi_squared"
   ]
  },
  {
   "cell_type": "code",
   "execution_count": 4,
   "id": "f31641d7",
   "metadata": {},
   "outputs": [],
   "source": [
    "n_walkers = 32\n",
    "n_params = 3\n",
    "n_steps = 5000\n",
    "labels = [\"A\", \"mu\", \"w\"]"
   ]
  },
  {
   "cell_type": "code",
   "execution_count": 5,
   "id": "5d3c47e0",
   "metadata": {},
   "outputs": [],
   "source": [
    "df_results = pd.DataFrame()\n",
    "problem_files = {}"
   ]
  },
  {
   "cell_type": "code",
   "execution_count": 6,
   "id": "a920bc58",
   "metadata": {},
   "outputs": [],
   "source": [
    "wavelength_list = df_wavelength.values.tolist()"
   ]
  },
  {
   "cell_type": "code",
   "execution_count": 15,
   "id": "f1b37a6b",
   "metadata": {},
   "outputs": [
    {
     "data": {
      "text/plain": [
       "[1208.85,\n",
       " 1211.212,\n",
       " 1211.38,\n",
       " 1212.795,\n",
       " 1218.595,\n",
       " 1224.424,\n",
       " 1224.479,\n",
       " 1224.544,\n",
       " 1227.089,\n",
       " 1233.922,\n",
       " 1241.905,\n",
       " 1247.16,\n",
       " 1248.045,\n",
       " 1250.814,\n",
       " 1253.297,\n",
       " 1253.325,\n",
       " 1256.093,\n",
       " 1262.86,\n",
       " 1269.209,\n",
       " 1270.782,\n",
       " 1277.199,\n",
       " 1277.212,\n",
       " 1280.099,\n",
       " 1295.652,\n",
       " 1296.174,\n",
       " 1302.337,\n",
       " 1302.863,\n",
       " 1303.111,\n",
       " 1303.4295,\n",
       " 1305.883,\n",
       " 1310.194,\n",
       " 1313.249,\n",
       " 1316.542,\n",
       " 1316.618,\n",
       " 1323.515,\n",
       " 1323.522,\n",
       " 1326.643,\n",
       " 1381.552,\n",
       " 1385.51,\n",
       " 1388.435,\n",
       " 1389.154,\n",
       " 1392.588,\n",
       " 1396.112,\n",
       " 1401.514,\n",
       " 1409.337,\n",
       " 1412.873,\n",
       " 1425.03,\n",
       " 1425.219,\n",
       " 1433.28,\n",
       " 1433.311,\n",
       " 1436.968,\n",
       " 1448.229]"
      ]
     },
     "execution_count": 15,
     "metadata": {},
     "output_type": "execute_result"
    }
   ],
   "source": [
    "wavelength_list"
   ]
  },
  {
   "cell_type": "code",
   "execution_count": 14,
   "id": "b614cdb1",
   "metadata": {},
   "outputs": [
    {
     "data": {
      "application/vnd.jupyter.widget-view+json": {
       "model_id": "8c764adf7e6b4f69a8b2578ce371ac45",
       "version_major": 2,
       "version_minor": 0
      },
      "text/plain": [
       "  0%|          | 0/52 [00:00<?, ?it/s]"
      ]
     },
     "metadata": {},
     "output_type": "display_data"
    },
    {
     "name": "stderr",
     "output_type": "stream",
     "text": [
      "C:\\Users\\jojoa\\.conda\\envs\\io_env\\lib\\site-packages\\ipykernel_launcher.py:17: RuntimeWarning: overflow encountered in double_scalars\n",
      "C:\\Users\\jojoa\\.conda\\envs\\io_env\\lib\\site-packages\\ipykernel_launcher.py:16: RuntimeWarning: overflow encountered in exp\n",
      "  app.launch_new_instance()\n",
      "C:\\Users\\jojoa\\.conda\\envs\\io_env\\lib\\site-packages\\ipykernel_launcher.py:17: RuntimeWarning: divide by zero encountered in true_divide\n",
      "C:\\Users\\jojoa\\.conda\\envs\\io_env\\lib\\site-packages\\ipykernel_launcher.py:17: RuntimeWarning: overflow encountered in true_divide\n",
      "C:\\Users\\jojoa\\.conda\\envs\\io_env\\lib\\site-packages\\ipykernel_launcher.py:36: RuntimeWarning: overflow encountered in exp\n",
      "C:\\Users\\jojoa\\.conda\\envs\\io_env\\lib\\site-packages\\numpy\\core\\_methods.py:229: RuntimeWarning: invalid value encountered in subtract\n",
      "  x = asanyarray(arr - arrmean)\n",
      "C:\\Users\\jojoa\\.conda\\envs\\io_env\\lib\\site-packages\\ipykernel_launcher.py:17: RuntimeWarning: overflow encountered in square\n",
      "C:\\Users\\jojoa\\.conda\\envs\\io_env\\lib\\site-packages\\ipykernel_launcher.py:17: RuntimeWarning: invalid value encountered in true_divide\n"
     ]
    },
    {
     "ename": "ValueError",
     "evalue": "Probability function returned NaN",
     "output_type": "error",
     "traceback": [
      "\u001b[1;31m---------------------------------------------------------------------------\u001b[0m",
      "\u001b[1;31mValueError\u001b[0m                                Traceback (most recent call last)",
      "\u001b[1;32m<ipython-input-14-40fd12f4ef56>\u001b[0m in \u001b[0;36m<module>\u001b[1;34m\u001b[0m\n\u001b[0;32m     28\u001b[0m     \u001b[1;31m#with Pool() as pool:\u001b[0m\u001b[1;33m\u001b[0m\u001b[1;33m\u001b[0m\u001b[1;33m\u001b[0m\u001b[0m\n\u001b[0;32m     29\u001b[0m     \u001b[0msampler\u001b[0m \u001b[1;33m=\u001b[0m \u001b[0memcee\u001b[0m\u001b[1;33m.\u001b[0m\u001b[0mEnsembleSampler\u001b[0m\u001b[1;33m(\u001b[0m\u001b[0mn_walkers\u001b[0m\u001b[1;33m,\u001b[0m \u001b[0mn_params\u001b[0m\u001b[1;33m,\u001b[0m \u001b[0mlog_likelihood\u001b[0m\u001b[1;33m,\u001b[0m \u001b[0mthreads\u001b[0m\u001b[1;33m=\u001b[0m\u001b[1;36m12\u001b[0m\u001b[1;33m)\u001b[0m\u001b[1;33m\u001b[0m\u001b[1;33m\u001b[0m\u001b[0m\n\u001b[1;32m---> 30\u001b[1;33m     \u001b[0msampler\u001b[0m\u001b[1;33m.\u001b[0m\u001b[0mrun_mcmc\u001b[0m\u001b[1;33m(\u001b[0m\u001b[0mpos\u001b[0m\u001b[1;33m,\u001b[0m \u001b[0mn_steps\u001b[0m\u001b[1;33m,\u001b[0m \u001b[0mprogress\u001b[0m\u001b[1;33m=\u001b[0m\u001b[1;32mFalse\u001b[0m\u001b[1;33m)\u001b[0m\u001b[1;33m;\u001b[0m\u001b[1;33m\u001b[0m\u001b[1;33m\u001b[0m\u001b[0m\n\u001b[0m\u001b[0;32m     31\u001b[0m \u001b[1;33m\u001b[0m\u001b[0m\n\u001b[0;32m     32\u001b[0m     \u001b[0mflat_samples\u001b[0m \u001b[1;33m=\u001b[0m \u001b[0msampler\u001b[0m\u001b[1;33m.\u001b[0m\u001b[0mget_chain\u001b[0m\u001b[1;33m(\u001b[0m\u001b[0mdiscard\u001b[0m\u001b[1;33m=\u001b[0m\u001b[1;36m1000\u001b[0m\u001b[1;33m,\u001b[0m \u001b[0mthin\u001b[0m\u001b[1;33m=\u001b[0m\u001b[1;36m15\u001b[0m\u001b[1;33m,\u001b[0m \u001b[0mflat\u001b[0m\u001b[1;33m=\u001b[0m\u001b[1;32mTrue\u001b[0m\u001b[1;33m)\u001b[0m\u001b[1;33m\u001b[0m\u001b[1;33m\u001b[0m\u001b[0m\n",
      "\u001b[1;32m~\\.conda\\envs\\io_env\\lib\\site-packages\\emcee\\ensemble.py\u001b[0m in \u001b[0;36mrun_mcmc\u001b[1;34m(self, initial_state, nsteps, **kwargs)\u001b[0m\n\u001b[0;32m    382\u001b[0m \u001b[1;33m\u001b[0m\u001b[0m\n\u001b[0;32m    383\u001b[0m         \u001b[0mresults\u001b[0m \u001b[1;33m=\u001b[0m \u001b[1;32mNone\u001b[0m\u001b[1;33m\u001b[0m\u001b[1;33m\u001b[0m\u001b[0m\n\u001b[1;32m--> 384\u001b[1;33m         \u001b[1;32mfor\u001b[0m \u001b[0mresults\u001b[0m \u001b[1;32min\u001b[0m \u001b[0mself\u001b[0m\u001b[1;33m.\u001b[0m\u001b[0msample\u001b[0m\u001b[1;33m(\u001b[0m\u001b[0minitial_state\u001b[0m\u001b[1;33m,\u001b[0m \u001b[0miterations\u001b[0m\u001b[1;33m=\u001b[0m\u001b[0mnsteps\u001b[0m\u001b[1;33m,\u001b[0m \u001b[1;33m**\u001b[0m\u001b[0mkwargs\u001b[0m\u001b[1;33m)\u001b[0m\u001b[1;33m:\u001b[0m\u001b[1;33m\u001b[0m\u001b[1;33m\u001b[0m\u001b[0m\n\u001b[0m\u001b[0;32m    385\u001b[0m             \u001b[1;32mpass\u001b[0m\u001b[1;33m\u001b[0m\u001b[1;33m\u001b[0m\u001b[0m\n\u001b[0;32m    386\u001b[0m \u001b[1;33m\u001b[0m\u001b[0m\n",
      "\u001b[1;32m~\\.conda\\envs\\io_env\\lib\\site-packages\\emcee\\ensemble.py\u001b[0m in \u001b[0;36msample\u001b[1;34m(self, initial_state, log_prob0, rstate0, blobs0, iterations, tune, skip_initial_state_check, thin_by, thin, store, progress)\u001b[0m\n\u001b[0;32m    341\u001b[0m \u001b[1;33m\u001b[0m\u001b[0m\n\u001b[0;32m    342\u001b[0m                     \u001b[1;31m# Propose\u001b[0m\u001b[1;33m\u001b[0m\u001b[1;33m\u001b[0m\u001b[1;33m\u001b[0m\u001b[0m\n\u001b[1;32m--> 343\u001b[1;33m                     \u001b[0mstate\u001b[0m\u001b[1;33m,\u001b[0m \u001b[0maccepted\u001b[0m \u001b[1;33m=\u001b[0m \u001b[0mmove\u001b[0m\u001b[1;33m.\u001b[0m\u001b[0mpropose\u001b[0m\u001b[1;33m(\u001b[0m\u001b[0mmodel\u001b[0m\u001b[1;33m,\u001b[0m \u001b[0mstate\u001b[0m\u001b[1;33m)\u001b[0m\u001b[1;33m\u001b[0m\u001b[1;33m\u001b[0m\u001b[0m\n\u001b[0m\u001b[0;32m    344\u001b[0m                     \u001b[0mstate\u001b[0m\u001b[1;33m.\u001b[0m\u001b[0mrandom_state\u001b[0m \u001b[1;33m=\u001b[0m \u001b[0mself\u001b[0m\u001b[1;33m.\u001b[0m\u001b[0mrandom_state\u001b[0m\u001b[1;33m\u001b[0m\u001b[1;33m\u001b[0m\u001b[0m\n\u001b[0;32m    345\u001b[0m \u001b[1;33m\u001b[0m\u001b[0m\n",
      "\u001b[1;32m~\\.conda\\envs\\io_env\\lib\\site-packages\\emcee\\moves\\red_blue.py\u001b[0m in \u001b[0;36mpropose\u001b[1;34m(self, model, state)\u001b[0m\n\u001b[0;32m     91\u001b[0m \u001b[1;33m\u001b[0m\u001b[0m\n\u001b[0;32m     92\u001b[0m             \u001b[1;31m# Compute the lnprobs of the proposed position.\u001b[0m\u001b[1;33m\u001b[0m\u001b[1;33m\u001b[0m\u001b[1;33m\u001b[0m\u001b[0m\n\u001b[1;32m---> 93\u001b[1;33m             \u001b[0mnew_log_probs\u001b[0m\u001b[1;33m,\u001b[0m \u001b[0mnew_blobs\u001b[0m \u001b[1;33m=\u001b[0m \u001b[0mmodel\u001b[0m\u001b[1;33m.\u001b[0m\u001b[0mcompute_log_prob_fn\u001b[0m\u001b[1;33m(\u001b[0m\u001b[0mq\u001b[0m\u001b[1;33m)\u001b[0m\u001b[1;33m\u001b[0m\u001b[1;33m\u001b[0m\u001b[0m\n\u001b[0m\u001b[0;32m     94\u001b[0m \u001b[1;33m\u001b[0m\u001b[0m\n\u001b[0;32m     95\u001b[0m             \u001b[1;31m# Loop over the walkers and update them accordingly.\u001b[0m\u001b[1;33m\u001b[0m\u001b[1;33m\u001b[0m\u001b[1;33m\u001b[0m\u001b[0m\n",
      "\u001b[1;32m~\\.conda\\envs\\io_env\\lib\\site-packages\\emcee\\ensemble.py\u001b[0m in \u001b[0;36mcompute_log_prob\u001b[1;34m(self, coords)\u001b[0m\n\u001b[0;32m    454\u001b[0m         \u001b[1;31m# Check for log_prob returning NaN.\u001b[0m\u001b[1;33m\u001b[0m\u001b[1;33m\u001b[0m\u001b[1;33m\u001b[0m\u001b[0m\n\u001b[0;32m    455\u001b[0m         \u001b[1;32mif\u001b[0m \u001b[0mnp\u001b[0m\u001b[1;33m.\u001b[0m\u001b[0many\u001b[0m\u001b[1;33m(\u001b[0m\u001b[0mnp\u001b[0m\u001b[1;33m.\u001b[0m\u001b[0misnan\u001b[0m\u001b[1;33m(\u001b[0m\u001b[0mlog_prob\u001b[0m\u001b[1;33m)\u001b[0m\u001b[1;33m)\u001b[0m\u001b[1;33m:\u001b[0m\u001b[1;33m\u001b[0m\u001b[1;33m\u001b[0m\u001b[0m\n\u001b[1;32m--> 456\u001b[1;33m             \u001b[1;32mraise\u001b[0m \u001b[0mValueError\u001b[0m\u001b[1;33m(\u001b[0m\u001b[1;34m\"Probability function returned NaN\"\u001b[0m\u001b[1;33m)\u001b[0m\u001b[1;33m\u001b[0m\u001b[1;33m\u001b[0m\u001b[0m\n\u001b[0m\u001b[0;32m    457\u001b[0m \u001b[1;33m\u001b[0m\u001b[0m\n\u001b[0;32m    458\u001b[0m         \u001b[1;32mreturn\u001b[0m \u001b[0mlog_prob\u001b[0m\u001b[1;33m,\u001b[0m \u001b[0mblob\u001b[0m\u001b[1;33m\u001b[0m\u001b[1;33m\u001b[0m\u001b[0m\n",
      "\u001b[1;31mValueError\u001b[0m: Probability function returned NaN"
     ]
    }
   ],
   "source": [
    "for index in tqdm(range(0, len(wavelength_list))):\n",
    "    #len(wavelength_list) for whole list\n",
    "    \n",
    "    line = wavelength_list[index]\n",
    "    \n",
    "    left_bound = 0.999*line\n",
    "    right_bound = 1.001*line\n",
    "        \n",
    "    sub_region = (evt_data['WAVELENGTH'] > left_bound) & (evt_data['WAVELENGTH'] < right_bound) #only take values within this area\n",
    "    wl = evt_data['WAVELENGTH'][sub_region]\n",
    "    flux = evt_data['FLUX'][sub_region]\n",
    "    unc = 0.05*flux #placeholder uncertainty\n",
    "    \n",
    "    def generative_model(A, mu, logw, int_wl = line):\n",
    "        \"\"\"Generate the model given parameters\"\"\"\n",
    "        w = np.exp(logw)\n",
    "        gaussian = A * np.exp(-0.5*(wl-mu)**2/w**2)\n",
    "        return gaussian\n",
    "    \n",
    "    A_guess, mu_guess, logw_guess = 0.04*10**-13, line, np.log(0.5)\n",
    "    flux_guess = generative_model(A_guess, mu_guess, logw_guess)\n",
    "    \n",
    "    theta_guess = np.array([A_guess, mu_guess, logw_guess])\n",
    "    log_likelihood(theta_guess) #more magnitude the log_likelihood, the worse the fit\n",
    "    \n",
    "    pos = theta_guess + 1e-4 * np.random.randn(n_walkers, n_params) #intial guess position\n",
    "\n",
    "    #with Pool() as pool:\n",
    "    sampler = emcee.EnsembleSampler(n_walkers, n_params, log_likelihood, threads=12)\n",
    "    sampler.run_mcmc(pos, n_steps, progress=False);\n",
    "\n",
    "    flat_samples = sampler.get_chain(discard=1000, thin=15, flat=True)\n",
    "\n",
    "    A_draws = flat_samples[:,0]\n",
    "    mu_draws = flat_samples[:,1]\n",
    "    w_draws = np.exp(flat_samples[:, 2])\n",
    "    \n",
    "    brightness = -((2*np.pi)**.5)*(A_draws*w_draws)\n",
    "    brightness\n",
    "    \n",
    "    brightness_mean = np.mean(brightness)\n",
    "    brightness_std = np.std(brightness)\n",
    "    \n",
    "    gauss_width = np.mean(w_draws)\n",
    "    gauss_width_unc = np.std(w_draws)\n",
    "    obs_line_center = np.mean(mu_draws)\n",
    "    obs_line_center_unc = np.std(mu_draws)\n",
    "    \n",
    "    temp = {'brightness':brightness_mean, 'brightness_unc':brightness_std, 'int_wv':line, 'gaussian_width':gauss_width, 'gaussian_width_unc':gauss_width_unc,\n",
    "                'obs_line_center':obs_line_center, 'obs_line_center_unc':obs_line_center_unc}\n",
    "    \n",
    "    df_results = df_results.append(temp, ignore_index=True)\n",
    "    if (index % 10) == 0:\n",
    "                #print(index, fn[-49:])\n",
    "                df_results.to_csv('../data/io_results_june_6.csv',index=False)"
   ]
  },
  {
   "cell_type": "markdown",
   "id": "df39a14e",
   "metadata": {},
   "source": [
    "Now that we have run the loop, let us save the file for later use."
   ]
  },
  {
   "cell_type": "code",
   "execution_count": null,
   "id": "a2c2eab2",
   "metadata": {},
   "outputs": [],
   "source": [
    "df_results.to_csv('../data/io_results_june_6.csv',index=False)"
   ]
  }
 ],
 "metadata": {
  "kernelspec": {
   "display_name": "Python 3",
   "language": "python",
   "name": "python3"
  },
  "language_info": {
   "codemirror_mode": {
    "name": "ipython",
    "version": 3
   },
   "file_extension": ".py",
   "mimetype": "text/x-python",
   "name": "python",
   "nbconvert_exporter": "python",
   "pygments_lexer": "ipython3",
   "version": "3.7.10"
  }
 },
 "nbformat": 4,
 "nbformat_minor": 5
}
